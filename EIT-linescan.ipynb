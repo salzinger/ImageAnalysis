{
 "cells": [
  {
   "cell_type": "code",
   "execution_count": 1,
   "metadata": {},
   "outputs": [],
   "source": [
    "import sys\n",
    "import numpy as np\n",
    "sys.path.insert(0, '/home/david/Institut/rydanalysis/')\n",
    "from rydanalysis import *\n",
    "import matplotlib.pyplot as plt\n",
    "import seaborn as sns\n",
    "import matplotlib as mpl\n",
    "from scipy import interpolate\n",
    "mpl.rc('image', cmap='afmhot')\n",
    "sns.set_style(\"whitegrid\")\n",
    "from lmfit import Model,Parameters"
   ]
  },
  {
   "cell_type": "code",
   "execution_count": 2,
   "metadata": {},
   "outputs": [],
   "source": [
    "from scipy import ndimage"
   ]
  },
  {
   "cell_type": "code",
   "execution_count": 3,
   "metadata": {},
   "outputs": [],
   "source": [
    "seq = ExpSequence(\"/home/david/Institut/2019_IEI_new/July/19/Linescan_lowOMEGA_lowDENSITY\")\n",
    "#shot = SingleShot(\"/home/david/Institut/2019_IEI/July/02/scanblueresonance_FINAL_averaged_images/2019-06-05_00.fts\")"
   ]
  },
  {
   "cell_type": "code",
   "execution_count": 4,
   "metadata": {},
   "outputs": [
    {
     "name": "stderr",
     "output_type": "stream",
     "text": [
      "/home/david/Institut/rydanalysis/rydanalysis/single_shot/image_processing.py:20: RuntimeWarning: divide by zero encountered in true_divide\n",
      "  trans = atoms/light\n",
      "/home/david/Institut/rydanalysis/rydanalysis/single_shot/image_processing.py:20: RuntimeWarning: invalid value encountered in true_divide\n",
      "  trans = atoms/light\n",
      "/home/david/Institut/rydanalysis/rydanalysis/single_shot/image_processing.py:22: RuntimeWarning: invalid value encountered in greater_equal\n",
      "  np.place(trans,trans>=1,1)\n"
     ]
    }
   ],
   "source": [
    "variables= seq.variables.copy()\n",
    "for i,shot in enumerate(seq.iter_single_shots()):\n",
    "    image=shot.image\n",
    "    absorb = calc_absorbtion_image(image)\n",
    "    absorb = crop_image(absorb,xslice=slice(10,90),yslice=slice(10,380))\n",
    "    od = absorbtion_to_OD(absorb)\n",
    "    shot.optical_density = od"
   ]
  },
  {
   "cell_type": "code",
   "execution_count": 5,
   "metadata": {},
   "outputs": [],
   "source": [
    "#od = ndimage.gaussian_filter(od, 4, order=0, output=None, mode='constant', cval=0.0, truncate=4.0)\n",
    "\n",
    "def fit2dGaussian(image):\n",
    "    image = ndimage.gaussian_filter(image, 8, order=0, output=None, mode='constant', cval=0.0, truncate=4.0)\n",
    "    fit = Fit2dGaussian(image)\n",
    "    #fit.params = fit.guess(image)\n",
    "    #fit.params = restrict_to_init(fit.params,dev=0.2)\n",
    "    #fit.params['amp'].max = fit.params['amp'].value*(1+0.5)\n",
    "    #fit.params['amp'].min = fit.params['amp'].value*(1-0.5)\n",
    "    #fit.params['cen_x'].max = fit.params['amp'].value*(1+0.1)\n",
    "    #fit.params['cen_x'].min = fit.params['amp'].value*(1-0.1)\n",
    "    #fit.params['cen_y'].max = fit.params['amp'].value*(1+0.1)\n",
    "    #fit.params['cen_y'].min = fit.params['amp'].value*(1-0.1)\n",
    "    #fit.params['offset'].max = fit.params['amp'].value*(1+2)\n",
    "    \n",
    "    fit.params['offset'].vary = False\n",
    "    fit.params['offset'].value = 0\n",
    "\n",
    "    fit.fit_data()\n",
    "    return fittoSeries(fit)"
   ]
  },
  {
   "cell_type": "code",
   "execution_count": 55,
   "metadata": {},
   "outputs": [],
   "source": [
    "def fit22dGaussian(image):\n",
    "    #image = ndimage.gaussian_filter(image, 8, order=0, output=None, mode='constant', cval=0.0, truncate=4.0)\n",
    "    fit = Fit2d2Gaussian(image)\n",
    "    #fit.params = fit.guess(image)\n",
    "    # cloud distribution\n",
    "    params = fit.params\n",
    "    params.add('amp1',value=0.0)\n",
    "    params.add('cen_y1',value=160,min=140,max=180)\n",
    "    params.add('cen_x1',value=45,min=30,max=60)\n",
    "    params.add('sig_x1',value=5,min=30,max=200)\n",
    "    params.add('sig_y1',value=5,min=30,max=200)\n",
    "    params.add('theta1',value=0,min=0,max=np.pi)\n",
    "\n",
    "    # EIT/Autler-Townes-dip\n",
    "    params.add('amp2',value=0.00)\n",
    "    params.add('cen_y2',value=171.2,min=155,max=175)\n",
    "    params.add('cen_x2',value=48.1,min=48,max=57)\n",
    "    params.add('sig_x2',value=4.5,min=3,max=15)\n",
    "    params.add('sig_y2',expr='sig_x2')\n",
    "    params.add('theta2',value=0,min=0,max=np.pi)\n",
    "\n",
    "    # offset\n",
    "    params.add('offset',value=0,vary=False)\n",
    "    fit.params = params\n",
    "    fit.fit_data()\n",
    "    return fit\n"
   ]
  },
  {
   "cell_type": "code",
   "execution_count": 7,
   "metadata": {},
   "outputs": [],
   "source": [
    "def Series2Parameter(s):\n",
    "    p = Parameters()\n",
    "    keys = ['value','min','max','vary']\n",
    "    for l in s.groupby(level=0):\n",
    "        print(l[1])\n",
    "        i = l[1:]\n",
    "        name = i[0]\n",
    "        kwargs = {k: i[1][name][k] for k in keys}\n",
    "        p.add(name, **kwargs)\n",
    "    return p"
   ]
  },
  {
   "cell_type": "code",
   "execution_count": 8,
   "metadata": {},
   "outputs": [],
   "source": [
    "def stderr_weighted_average(g):\n",
    "    rel_err = g.amp.stderr/g.amp.value\n",
    "    weights = 1/rel_err\n",
    "    return (g.image_od * weights).sum()/weights.sum()"
   ]
  },
  {
   "cell_type": "code",
   "execution_count": 58,
   "metadata": {},
   "outputs": [],
   "source": [
    "def ThreeOverTwo(Dint,g31,Wc,Wp,redlw):\n",
    "    \"\"\"\n",
    "    Imaginary Part of the first order susceptibility\n",
    "    in the ladder scheme:\n",
    "    index 1 ~ ground state\n",
    "    index 2 ~ Rydberg state\n",
    "    index 3 ~ intermediate state\n",
    "    prefactor in units of MHz*m^3\n",
    "    density is in units of 10^15 1/m^3\n",
    "    detunings,rabi-frequencys and Decay rates in MHz\n",
    "    \"\"\"  \n",
    "    \"\"\"\n",
    "    prefactor in units of MHz*m^3\n",
    "    density is in units of 10^15 1/m^3\n",
    "    detunings,rabi-frequencys and Decay rates in MHz\n",
    "    \"\"\" \n",
    "    l=4 * redlw * Dint**2 *(g31*redlw+2*Wp)\n",
    "    l1=(Wp**2+Wc**2)*(g31*Wc**2+redlw*Wp**2)\n",
    "    return l/(l+l1)\n"
   ]
  },
  {
   "cell_type": "code",
   "execution_count": 9,
   "metadata": {},
   "outputs": [],
   "source": [
    "data = seq.variables.copy()"
   ]
  },
  {
   "cell_type": "code",
   "execution_count": 10,
   "metadata": {},
   "outputs": [],
   "source": [
    "data['image_od'] = [shot.optical_density[0] for shot in seq.iter_single_shots()]"
   ]
  },
  {
   "cell_type": "code",
   "execution_count": 11,
   "metadata": {},
   "outputs": [],
   "source": [
    "data['image_light'] = [shot.image[3] for shot in seq.iter_single_shots()]\n",
    "data['image_atoms'] = [shot.image[1] for shot in seq.iter_single_shots()]\n",
    "data['image_bg'] = [shot.image[5] for shot in seq.iter_single_shots()]\n",
    "\n",
    "data['light'] = data.image_light-data.image_bg\n",
    "data['atoms'] = data.image_atoms-data.image_bg\n",
    "data['diff'] = data.light- data.atoms"
   ]
  },
  {
   "cell_type": "code",
   "execution_count": 46,
   "metadata": {},
   "outputs": [],
   "source": [
    "fit_res = data['image_od'].apply(fit2dGaussian)\n",
    "fit_res.to_csv('fit_res.csv')\n",
    "fit_res[data.columns] = data\n",
    "data = fit_res"
   ]
  },
  {
   "cell_type": "code",
   "execution_count": 13,
   "metadata": {},
   "outputs": [],
   "source": [
    "data['counts'] = data['light'].apply(lambda x: x[:,:].mean())"
   ]
  },
  {
   "cell_type": "code",
   "execution_count": 14,
   "metadata": {},
   "outputs": [
    {
     "data": {
      "text/plain": [
       "0.1655598364328097"
      ]
     },
     "execution_count": 14,
     "metadata": {},
     "output_type": "execute_result"
    }
   ],
   "source": [
    "data.counts.std()"
   ]
  },
  {
   "cell_type": "code",
   "execution_count": 15,
   "metadata": {},
   "outputs": [
    {
     "data": {
      "text/plain": [
       "0.799999999999988"
      ]
     },
     "execution_count": 15,
     "metadata": {},
     "output_type": "execute_result"
    }
   ],
   "source": [
    "seq.parameters.tof"
   ]
  },
  {
   "cell_type": "code",
   "execution_count": 16,
   "metadata": {},
   "outputs": [
    {
     "data": {
      "text/plain": [
       "28.526917432598037"
      ]
     },
     "execution_count": 16,
     "metadata": {},
     "output_type": "execute_result"
    }
   ],
   "source": [
    "data.counts.mean()"
   ]
  },
  {
   "cell_type": "code",
   "execution_count": 22,
   "metadata": {},
   "outputs": [],
   "source": [
    "data1 = data[data.amp.value<0.5]"
   ]
  },
  {
   "cell_type": "code",
   "execution_count": 25,
   "metadata": {},
   "outputs": [
    {
     "data": {
      "text/plain": [
       "0.1916337922969627"
      ]
     },
     "execution_count": 25,
     "metadata": {},
     "output_type": "execute_result"
    }
   ],
   "source": [
    "data.amp.value.std()/data.amp.value.mean()"
   ]
  },
  {
   "cell_type": "code",
   "execution_count": 24,
   "metadata": {},
   "outputs": [
    {
     "data": {
      "text/plain": [
       "<matplotlib.axes._subplots.AxesSubplot at 0x7efc93cadba8>"
      ]
     },
     "execution_count": 24,
     "metadata": {},
     "output_type": "execute_result"
    },
    {
     "data": {
      "image/png": "[encoded data removed]",
      "text/plain": [
       "<Figure size 432x288 with 1 Axes>"
      ]
     },
     "metadata": {
      "needs_background": "light"
     },
     "output_type": "display_data"
    }
   ],
   "source": [
    "sns.distplot(data.amp.value)"
   ]
  },
  {
   "cell_type": "code",
   "execution_count": 26,
   "metadata": {},
   "outputs": [
    {
     "data": {
      "text/plain": [
       "<matplotlib.axes._subplots.AxesSubplot at 0x7efc93f02080>"
      ]
     },
     "execution_count": 26,
     "metadata": {},
     "output_type": "execute_result"
    },
    {
     "data": {
      "image/png": "[encoded data removed]",
      "text/plain": [
       "<Figure size 432x288 with 1 Axes>"
      ]
     },
     "metadata": {
      "needs_background": "light"
     },
     "output_type": "display_data"
    }
   ],
   "source": [
    "data.amp.value.plot()"
   ]
  },
  {
   "cell_type": "markdown",
   "metadata": {},
   "source": []
  },
  {
   "cell_type": "markdown",
   "metadata": {},
   "source": []
  },
  {
   "cell_type": "markdown",
   "metadata": {},
   "source": []
  },
  {
   "cell_type": "markdown",
   "metadata": {},
   "source": [
    "Apply conditional filters to data set"
   ]
  },
  {
   "cell_type": "markdown",
   "metadata": {},
   "source": [
    "fig,ax=plt.subplots(nrows=4,ncols=4,figsize=(20,20))\n",
    "for i,group in enumerate(data.groupby('MWduration')):\n",
    "    sns.distplot(group[1].counts,bins=12,ax=ax.flatten()[i])"
   ]
  },
  {
   "cell_type": "code",
   "execution_count": 31,
   "metadata": {},
   "outputs": [
    {
     "data": {
      "text/plain": [
       "<matplotlib.axes._subplots.AxesSubplot at 0x7efc92aae160>"
      ]
     },
     "execution_count": 31,
     "metadata": {},
     "output_type": "execute_result"
    },
    {
     "data": {
      "image/png": "[encoded data removed]",
      "text/plain": [
       "<Figure size 576x360 with 1 Axes>"
      ]
     },
     "metadata": {
      "needs_background": "light"
     },
     "output_type": "display_data"
    }
   ],
   "source": [
    "plt.figure(figsize=(8,5))\n",
    "sns.scatterplot(x=data.dDDSred,y=data.amp.value,hue = data.amp.stderr,markers='O')#,hue_norm=(0,0.0010))\n",
    "sns.lineplot(x=data.dDDSred,y=data.amp.value)"
   ]
  },
  {
   "cell_type": "markdown",
   "metadata": {},
   "source": [
    "fig,ax=plt.subplots(nrows=4,ncols=4,figsize=(20,20))\n",
    "for i,group in enumerate(data.groupby('MWduration')):\n",
    "    sns.distplot(group[1].amp.value,bins=7,ax=ax.flatten()[i])"
   ]
  },
  {
   "cell_type": "markdown",
   "metadata": {},
   "source": [
    "fig,ax=plt.subplots(nrows=4,ncols=4,figsize=(20,20))\n",
    "for i,group in enumerate(data.groupby('MWduration')):\n",
    "    sns.distplot(group[1].cen_y.value,bins=7,ax=ax.flatten()[i])"
   ]
  },
  {
   "cell_type": "markdown",
   "metadata": {},
   "source": [
    "### Group by *MWduration*"
   ]
  },
  {
   "cell_type": "code",
   "execution_count": 56,
   "metadata": {},
   "outputs": [],
   "source": [
    "mw_av = data.groupby('dDDSred')['image_od'].apply(np.mean)\n",
    "\n",
    "fit = mw_av.apply(fit22dGaussian)\n",
    "fit_res = fit.apply(fittoSeries)"
   ]
  },
  {
   "cell_type": "code",
   "execution_count": 57,
   "metadata": {},
   "outputs": [
    {
     "ename": "NameError",
     "evalue": "name 'ThreeTwoTrans' is not defined",
     "output_type": "error",
     "traceback": [
      "\u001b[0;31m---------------------------------------------------------------------------\u001b[0m",
      "\u001b[0;31mNameError\u001b[0m                                 Traceback (most recent call last)",
      "\u001b[0;32m<ipython-input-57-5c1503ebb376>\u001b[0m in \u001b[0;36m<module>\u001b[0;34m\u001b[0m\n\u001b[0;32m----> 1\u001b[0;31m \u001b[0mmodel32\u001b[0m \u001b[0;34m=\u001b[0m \u001b[0mModel\u001b[0m\u001b[0;34m(\u001b[0m\u001b[0mThreeTwoTrans\u001b[0m\u001b[0;34m,\u001b[0m\u001b[0mindependent_vars\u001b[0m\u001b[0;34m=\u001b[0m\u001b[0;34m[\u001b[0m\u001b[0;34m'Dp'\u001b[0m\u001b[0;34m]\u001b[0m\u001b[0;34m)\u001b[0m\u001b[0;34m\u001b[0m\u001b[0;34m\u001b[0m\u001b[0m\n\u001b[0m\u001b[1;32m      2\u001b[0m \u001b[0mparams32\u001b[0m \u001b[0;34m=\u001b[0m \u001b[0mmodelL\u001b[0m\u001b[0;34m.\u001b[0m\u001b[0mmake_params\u001b[0m\u001b[0;34m(\u001b[0m\u001b[0;34m)\u001b[0m\u001b[0;34m\u001b[0m\u001b[0;34m\u001b[0m\u001b[0m\n\u001b[1;32m      3\u001b[0m \u001b[0mparams32\u001b[0m\u001b[0;34m.\u001b[0m\u001b[0madd\u001b[0m\u001b[0;34m(\u001b[0m\u001b[0;34m'g31'\u001b[0m\u001b[0;34m,\u001b[0m\u001b[0mvalue\u001b[0m\u001b[0;34m=\u001b[0m\u001b[0;36m6.02\u001b[0m\u001b[0;34m,\u001b[0m\u001b[0mmin\u001b[0m\u001b[0;34m=\u001b[0m\u001b[0;36m4\u001b[0m\u001b[0;34m,\u001b[0m\u001b[0mmax\u001b[0m\u001b[0;34m=\u001b[0m\u001b[0;36m8\u001b[0m\u001b[0;34m,\u001b[0m\u001b[0mvary\u001b[0m\u001b[0;34m=\u001b[0m\u001b[0;32mFalse\u001b[0m\u001b[0;34m)\u001b[0m\u001b[0;34m\u001b[0m\u001b[0;34m\u001b[0m\u001b[0m\n\u001b[1;32m      4\u001b[0m \u001b[0mparams32\u001b[0m\u001b[0;34m.\u001b[0m\u001b[0madd\u001b[0m\u001b[0;34m(\u001b[0m\u001b[0;34m'Dp0'\u001b[0m\u001b[0;34m,\u001b[0m\u001b[0mvalue\u001b[0m\u001b[0;34m=\u001b[0m\u001b[0;36m0\u001b[0m\u001b[0;34m,\u001b[0m\u001b[0mmin\u001b[0m\u001b[0;34m=\u001b[0m\u001b[0;34m-\u001b[0m\u001b[0;36m1\u001b[0m\u001b[0;34m,\u001b[0m\u001b[0mmax\u001b[0m\u001b[0;34m=\u001b[0m\u001b[0;36m1\u001b[0m\u001b[0;34m,\u001b[0m\u001b[0mvary\u001b[0m\u001b[0;34m=\u001b[0m\u001b[0;32mFalse\u001b[0m\u001b[0;34m)\u001b[0m\u001b[0;34m\u001b[0m\u001b[0;34m\u001b[0m\u001b[0m\n\u001b[1;32m      5\u001b[0m \u001b[0mparams32\u001b[0m\u001b[0;34m.\u001b[0m\u001b[0madd\u001b[0m\u001b[0;34m(\u001b[0m\u001b[0;34m'g21'\u001b[0m\u001b[0;34m,\u001b[0m\u001b[0mvalue\u001b[0m\u001b[0;34m=\u001b[0m\u001b[0;36m0.1\u001b[0m\u001b[0;34m,\u001b[0m\u001b[0mmin\u001b[0m\u001b[0;34m=\u001b[0m\u001b[0;36m0\u001b[0m\u001b[0;34m,\u001b[0m\u001b[0mmax\u001b[0m\u001b[0;34m=\u001b[0m\u001b[0;36m2\u001b[0m\u001b[0;34m,\u001b[0m\u001b[0mvary\u001b[0m\u001b[0;34m=\u001b[0m\u001b[0;32mFalse\u001b[0m\u001b[0;34m)\u001b[0m\u001b[0;34m\u001b[0m\u001b[0;34m\u001b[0m\u001b[0m\n",
      "\u001b[0;31mNameError\u001b[0m: name 'ThreeTwoTrans' is not defined"
     ]
    }
   ],
   "source": [
    "model32 = Model(ThreeTwoTrans,independent_vars=['Dp'])\n",
    "params32 = modelL.make_params()\n",
    "params32.add('g31',value=6.02,min=4,max=8,vary=False)\n",
    "params32.add('Dp0',value=0,min=-1,max=1,vary=False)\n",
    "params32.add('g21',value=0.1,min=0,max=2,vary=False)\n",
    "params32.add('Wc',value=1.5,vary=True)\n",
    "params32.add('Dc',value=-0.14,min=-1,max=1,vary=False)"
   ]
  },
  {
   "cell_type": "code",
   "execution_count": null,
   "metadata": {},
   "outputs": [],
   "source": [
    "out32 = model32.fit(Twolevel,params=params32,weights=finalweights,Dp=variables)#,nan_policy='propagate')"
   ]
  },
  {
   "cell_type": "code",
   "execution_count": 49,
   "metadata": {},
   "outputs": [
    {
     "data": {
      "text/html": [
       "<div>\n",
       "<style scoped>\n",
       "    .dataframe tbody tr th:only-of-type {\n",
       "        vertical-align: middle;\n",
       "    }\n",
       "\n",
       "    .dataframe tbody tr th {\n",
       "        vertical-align: top;\n",
       "    }\n",
       "\n",
       "    .dataframe thead th {\n",
       "        text-align: right;\n",
       "    }\n",
       "</style>\n",
       "<table border=\"1\" class=\"dataframe\">\n",
       "  <thead>\n",
       "    <tr style=\"text-align: right;\">\n",
       "      <th></th>\n",
       "      <th>value</th>\n",
       "      <th>min</th>\n",
       "      <th>max</th>\n",
       "      <th>init_value</th>\n",
       "      <th>stderr</th>\n",
       "      <th>vary</th>\n",
       "    </tr>\n",
       "    <tr>\n",
       "      <th>dDDSred</th>\n",
       "      <th></th>\n",
       "      <th></th>\n",
       "      <th></th>\n",
       "      <th></th>\n",
       "      <th></th>\n",
       "      <th></th>\n",
       "    </tr>\n",
       "  </thead>\n",
       "  <tbody>\n",
       "    <tr>\n",
       "      <th>-4.00</th>\n",
       "      <td>174.999981</td>\n",
       "      <td>160</td>\n",
       "      <td>175</td>\n",
       "      <td>171.2</td>\n",
       "      <td>None</td>\n",
       "      <td>True</td>\n",
       "    </tr>\n",
       "    <tr>\n",
       "      <th>-3.84</th>\n",
       "      <td>175.000000</td>\n",
       "      <td>160</td>\n",
       "      <td>175</td>\n",
       "      <td>171.2</td>\n",
       "      <td>None</td>\n",
       "      <td>True</td>\n",
       "    </tr>\n",
       "    <tr>\n",
       "      <th>-3.68</th>\n",
       "      <td>160.000000</td>\n",
       "      <td>160</td>\n",
       "      <td>175</td>\n",
       "      <td>171.2</td>\n",
       "      <td>None</td>\n",
       "      <td>True</td>\n",
       "    </tr>\n",
       "    <tr>\n",
       "      <th>-3.52</th>\n",
       "      <td>160.000095</td>\n",
       "      <td>160</td>\n",
       "      <td>175</td>\n",
       "      <td>171.2</td>\n",
       "      <td>None</td>\n",
       "      <td>True</td>\n",
       "    </tr>\n",
       "    <tr>\n",
       "      <th>-3.36</th>\n",
       "      <td>160.000003</td>\n",
       "      <td>160</td>\n",
       "      <td>175</td>\n",
       "      <td>171.2</td>\n",
       "      <td>None</td>\n",
       "      <td>True</td>\n",
       "    </tr>\n",
       "    <tr>\n",
       "      <th>-3.20</th>\n",
       "      <td>160.000014</td>\n",
       "      <td>160</td>\n",
       "      <td>175</td>\n",
       "      <td>171.2</td>\n",
       "      <td>None</td>\n",
       "      <td>True</td>\n",
       "    </tr>\n",
       "    <tr>\n",
       "      <th>-3.04</th>\n",
       "      <td>160.000000</td>\n",
       "      <td>160</td>\n",
       "      <td>175</td>\n",
       "      <td>171.2</td>\n",
       "      <td>None</td>\n",
       "      <td>True</td>\n",
       "    </tr>\n",
       "    <tr>\n",
       "      <th>-2.88</th>\n",
       "      <td>160.000000</td>\n",
       "      <td>160</td>\n",
       "      <td>175</td>\n",
       "      <td>171.2</td>\n",
       "      <td>None</td>\n",
       "      <td>True</td>\n",
       "    </tr>\n",
       "    <tr>\n",
       "      <th>-2.72</th>\n",
       "      <td>160.000003</td>\n",
       "      <td>160</td>\n",
       "      <td>175</td>\n",
       "      <td>171.2</td>\n",
       "      <td>None</td>\n",
       "      <td>True</td>\n",
       "    </tr>\n",
       "    <tr>\n",
       "      <th>-2.56</th>\n",
       "      <td>160.000000</td>\n",
       "      <td>160</td>\n",
       "      <td>175</td>\n",
       "      <td>171.2</td>\n",
       "      <td>None</td>\n",
       "      <td>True</td>\n",
       "    </tr>\n",
       "    <tr>\n",
       "      <th>-2.40</th>\n",
       "      <td>160.000000</td>\n",
       "      <td>160</td>\n",
       "      <td>175</td>\n",
       "      <td>171.2</td>\n",
       "      <td>None</td>\n",
       "      <td>True</td>\n",
       "    </tr>\n",
       "    <tr>\n",
       "      <th>-2.24</th>\n",
       "      <td>160.000000</td>\n",
       "      <td>160</td>\n",
       "      <td>175</td>\n",
       "      <td>171.2</td>\n",
       "      <td>None</td>\n",
       "      <td>True</td>\n",
       "    </tr>\n",
       "    <tr>\n",
       "      <th>-2.08</th>\n",
       "      <td>160.000000</td>\n",
       "      <td>160</td>\n",
       "      <td>175</td>\n",
       "      <td>171.2</td>\n",
       "      <td>None</td>\n",
       "      <td>True</td>\n",
       "    </tr>\n",
       "    <tr>\n",
       "      <th>-1.92</th>\n",
       "      <td>160.000000</td>\n",
       "      <td>160</td>\n",
       "      <td>175</td>\n",
       "      <td>171.2</td>\n",
       "      <td>None</td>\n",
       "      <td>True</td>\n",
       "    </tr>\n",
       "    <tr>\n",
       "      <th>-1.76</th>\n",
       "      <td>160.000000</td>\n",
       "      <td>160</td>\n",
       "      <td>175</td>\n",
       "      <td>171.2</td>\n",
       "      <td>None</td>\n",
       "      <td>True</td>\n",
       "    </tr>\n",
       "    <tr>\n",
       "      <th>-1.60</th>\n",
       "      <td>160.000000</td>\n",
       "      <td>160</td>\n",
       "      <td>175</td>\n",
       "      <td>171.2</td>\n",
       "      <td>None</td>\n",
       "      <td>True</td>\n",
       "    </tr>\n",
       "    <tr>\n",
       "      <th>-1.44</th>\n",
       "      <td>160.000000</td>\n",
       "      <td>160</td>\n",
       "      <td>175</td>\n",
       "      <td>171.2</td>\n",
       "      <td>None</td>\n",
       "      <td>True</td>\n",
       "    </tr>\n",
       "    <tr>\n",
       "      <th>-1.28</th>\n",
       "      <td>160.000000</td>\n",
       "      <td>160</td>\n",
       "      <td>175</td>\n",
       "      <td>171.2</td>\n",
       "      <td>None</td>\n",
       "      <td>True</td>\n",
       "    </tr>\n",
       "    <tr>\n",
       "      <th>-1.12</th>\n",
       "      <td>160.000000</td>\n",
       "      <td>160</td>\n",
       "      <td>175</td>\n",
       "      <td>171.2</td>\n",
       "      <td>None</td>\n",
       "      <td>True</td>\n",
       "    </tr>\n",
       "    <tr>\n",
       "      <th>-0.96</th>\n",
       "      <td>160.000000</td>\n",
       "      <td>160</td>\n",
       "      <td>175</td>\n",
       "      <td>171.2</td>\n",
       "      <td>None</td>\n",
       "      <td>True</td>\n",
       "    </tr>\n",
       "    <tr>\n",
       "      <th>-0.80</th>\n",
       "      <td>160.000000</td>\n",
       "      <td>160</td>\n",
       "      <td>175</td>\n",
       "      <td>171.2</td>\n",
       "      <td>None</td>\n",
       "      <td>True</td>\n",
       "    </tr>\n",
       "    <tr>\n",
       "      <th>-0.64</th>\n",
       "      <td>160.000000</td>\n",
       "      <td>160</td>\n",
       "      <td>175</td>\n",
       "      <td>171.2</td>\n",
       "      <td>None</td>\n",
       "      <td>True</td>\n",
       "    </tr>\n",
       "    <tr>\n",
       "      <th>-0.48</th>\n",
       "      <td>160.000000</td>\n",
       "      <td>160</td>\n",
       "      <td>175</td>\n",
       "      <td>171.2</td>\n",
       "      <td>None</td>\n",
       "      <td>True</td>\n",
       "    </tr>\n",
       "    <tr>\n",
       "      <th>-0.32</th>\n",
       "      <td>160.000000</td>\n",
       "      <td>160</td>\n",
       "      <td>175</td>\n",
       "      <td>171.2</td>\n",
       "      <td>None</td>\n",
       "      <td>True</td>\n",
       "    </tr>\n",
       "    <tr>\n",
       "      <th>-0.16</th>\n",
       "      <td>160.000000</td>\n",
       "      <td>160</td>\n",
       "      <td>175</td>\n",
       "      <td>171.2</td>\n",
       "      <td>None</td>\n",
       "      <td>True</td>\n",
       "    </tr>\n",
       "    <tr>\n",
       "      <th>0.00</th>\n",
       "      <td>160.003978</td>\n",
       "      <td>160</td>\n",
       "      <td>175</td>\n",
       "      <td>171.2</td>\n",
       "      <td>None</td>\n",
       "      <td>True</td>\n",
       "    </tr>\n",
       "    <tr>\n",
       "      <th>0.16</th>\n",
       "      <td>170.048147</td>\n",
       "      <td>160</td>\n",
       "      <td>175</td>\n",
       "      <td>171.2</td>\n",
       "      <td>None</td>\n",
       "      <td>True</td>\n",
       "    </tr>\n",
       "    <tr>\n",
       "      <th>0.32</th>\n",
       "      <td>171.871374</td>\n",
       "      <td>160</td>\n",
       "      <td>175</td>\n",
       "      <td>171.2</td>\n",
       "      <td>None</td>\n",
       "      <td>True</td>\n",
       "    </tr>\n",
       "    <tr>\n",
       "      <th>0.48</th>\n",
       "      <td>168.625751</td>\n",
       "      <td>160</td>\n",
       "      <td>175</td>\n",
       "      <td>171.2</td>\n",
       "      <td>None</td>\n",
       "      <td>True</td>\n",
       "    </tr>\n",
       "    <tr>\n",
       "      <th>0.64</th>\n",
       "      <td>160.000000</td>\n",
       "      <td>160</td>\n",
       "      <td>175</td>\n",
       "      <td>171.2</td>\n",
       "      <td>None</td>\n",
       "      <td>True</td>\n",
       "    </tr>\n",
       "    <tr>\n",
       "      <th>0.80</th>\n",
       "      <td>160.000000</td>\n",
       "      <td>160</td>\n",
       "      <td>175</td>\n",
       "      <td>171.2</td>\n",
       "      <td>None</td>\n",
       "      <td>True</td>\n",
       "    </tr>\n",
       "    <tr>\n",
       "      <th>0.96</th>\n",
       "      <td>160.000000</td>\n",
       "      <td>160</td>\n",
       "      <td>175</td>\n",
       "      <td>171.2</td>\n",
       "      <td>None</td>\n",
       "      <td>True</td>\n",
       "    </tr>\n",
       "    <tr>\n",
       "      <th>1.12</th>\n",
       "      <td>160.000000</td>\n",
       "      <td>160</td>\n",
       "      <td>175</td>\n",
       "      <td>171.2</td>\n",
       "      <td>None</td>\n",
       "      <td>True</td>\n",
       "    </tr>\n",
       "    <tr>\n",
       "      <th>1.28</th>\n",
       "      <td>160.000000</td>\n",
       "      <td>160</td>\n",
       "      <td>175</td>\n",
       "      <td>171.2</td>\n",
       "      <td>None</td>\n",
       "      <td>True</td>\n",
       "    </tr>\n",
       "    <tr>\n",
       "      <th>1.44</th>\n",
       "      <td>160.000000</td>\n",
       "      <td>160</td>\n",
       "      <td>175</td>\n",
       "      <td>171.2</td>\n",
       "      <td>None</td>\n",
       "      <td>True</td>\n",
       "    </tr>\n",
       "    <tr>\n",
       "      <th>1.60</th>\n",
       "      <td>160.000000</td>\n",
       "      <td>160</td>\n",
       "      <td>175</td>\n",
       "      <td>171.2</td>\n",
       "      <td>None</td>\n",
       "      <td>True</td>\n",
       "    </tr>\n",
       "    <tr>\n",
       "      <th>1.76</th>\n",
       "      <td>160.000000</td>\n",
       "      <td>160</td>\n",
       "      <td>175</td>\n",
       "      <td>171.2</td>\n",
       "      <td>None</td>\n",
       "      <td>True</td>\n",
       "    </tr>\n",
       "    <tr>\n",
       "      <th>1.92</th>\n",
       "      <td>160.000000</td>\n",
       "      <td>160</td>\n",
       "      <td>175</td>\n",
       "      <td>171.2</td>\n",
       "      <td>None</td>\n",
       "      <td>True</td>\n",
       "    </tr>\n",
       "    <tr>\n",
       "      <th>2.08</th>\n",
       "      <td>160.000000</td>\n",
       "      <td>160</td>\n",
       "      <td>175</td>\n",
       "      <td>171.2</td>\n",
       "      <td>None</td>\n",
       "      <td>True</td>\n",
       "    </tr>\n",
       "    <tr>\n",
       "      <th>2.24</th>\n",
       "      <td>160.000000</td>\n",
       "      <td>160</td>\n",
       "      <td>175</td>\n",
       "      <td>171.2</td>\n",
       "      <td>None</td>\n",
       "      <td>True</td>\n",
       "    </tr>\n",
       "    <tr>\n",
       "      <th>2.40</th>\n",
       "      <td>160.000002</td>\n",
       "      <td>160</td>\n",
       "      <td>175</td>\n",
       "      <td>171.2</td>\n",
       "      <td>None</td>\n",
       "      <td>True</td>\n",
       "    </tr>\n",
       "    <tr>\n",
       "      <th>2.56</th>\n",
       "      <td>160.000000</td>\n",
       "      <td>160</td>\n",
       "      <td>175</td>\n",
       "      <td>171.2</td>\n",
       "      <td>None</td>\n",
       "      <td>True</td>\n",
       "    </tr>\n",
       "    <tr>\n",
       "      <th>2.72</th>\n",
       "      <td>160.000000</td>\n",
       "      <td>160</td>\n",
       "      <td>175</td>\n",
       "      <td>171.2</td>\n",
       "      <td>None</td>\n",
       "      <td>True</td>\n",
       "    </tr>\n",
       "    <tr>\n",
       "      <th>2.88</th>\n",
       "      <td>160.000000</td>\n",
       "      <td>160</td>\n",
       "      <td>175</td>\n",
       "      <td>171.2</td>\n",
       "      <td>None</td>\n",
       "      <td>True</td>\n",
       "    </tr>\n",
       "    <tr>\n",
       "      <th>3.04</th>\n",
       "      <td>160.000000</td>\n",
       "      <td>160</td>\n",
       "      <td>175</td>\n",
       "      <td>171.2</td>\n",
       "      <td>None</td>\n",
       "      <td>True</td>\n",
       "    </tr>\n",
       "    <tr>\n",
       "      <th>3.20</th>\n",
       "      <td>160.000000</td>\n",
       "      <td>160</td>\n",
       "      <td>175</td>\n",
       "      <td>171.2</td>\n",
       "      <td>None</td>\n",
       "      <td>True</td>\n",
       "    </tr>\n",
       "    <tr>\n",
       "      <th>3.36</th>\n",
       "      <td>164.382133</td>\n",
       "      <td>160</td>\n",
       "      <td>175</td>\n",
       "      <td>171.2</td>\n",
       "      <td>None</td>\n",
       "      <td>True</td>\n",
       "    </tr>\n",
       "    <tr>\n",
       "      <th>3.52</th>\n",
       "      <td>174.999717</td>\n",
       "      <td>160</td>\n",
       "      <td>175</td>\n",
       "      <td>171.2</td>\n",
       "      <td>None</td>\n",
       "      <td>True</td>\n",
       "    </tr>\n",
       "    <tr>\n",
       "      <th>3.68</th>\n",
       "      <td>165.096109</td>\n",
       "      <td>160</td>\n",
       "      <td>175</td>\n",
       "      <td>171.2</td>\n",
       "      <td>None</td>\n",
       "      <td>True</td>\n",
       "    </tr>\n",
       "    <tr>\n",
       "      <th>3.84</th>\n",
       "      <td>167.791212</td>\n",
       "      <td>160</td>\n",
       "      <td>175</td>\n",
       "      <td>171.2</td>\n",
       "      <td>None</td>\n",
       "      <td>True</td>\n",
       "    </tr>\n",
       "    <tr>\n",
       "      <th>4.00</th>\n",
       "      <td>163.661140</td>\n",
       "      <td>160</td>\n",
       "      <td>175</td>\n",
       "      <td>171.2</td>\n",
       "      <td>None</td>\n",
       "      <td>True</td>\n",
       "    </tr>\n",
       "  </tbody>\n",
       "</table>\n",
       "</div>"
      ],
      "text/plain": [
       "              value  min  max  init_value stderr  vary\n",
       "dDDSred                                               \n",
       "-4.00    174.999981  160  175       171.2   None  True\n",
       "-3.84    175.000000  160  175       171.2   None  True\n",
       "-3.68    160.000000  160  175       171.2   None  True\n",
       "-3.52    160.000095  160  175       171.2   None  True\n",
       "-3.36    160.000003  160  175       171.2   None  True\n",
       "-3.20    160.000014  160  175       171.2   None  True\n",
       "-3.04    160.000000  160  175       171.2   None  True\n",
       "-2.88    160.000000  160  175       171.2   None  True\n",
       "-2.72    160.000003  160  175       171.2   None  True\n",
       "-2.56    160.000000  160  175       171.2   None  True\n",
       "-2.40    160.000000  160  175       171.2   None  True\n",
       "-2.24    160.000000  160  175       171.2   None  True\n",
       "-2.08    160.000000  160  175       171.2   None  True\n",
       "-1.92    160.000000  160  175       171.2   None  True\n",
       "-1.76    160.000000  160  175       171.2   None  True\n",
       "-1.60    160.000000  160  175       171.2   None  True\n",
       "-1.44    160.000000  160  175       171.2   None  True\n",
       "-1.28    160.000000  160  175       171.2   None  True\n",
       "-1.12    160.000000  160  175       171.2   None  True\n",
       "-0.96    160.000000  160  175       171.2   None  True\n",
       "-0.80    160.000000  160  175       171.2   None  True\n",
       "-0.64    160.000000  160  175       171.2   None  True\n",
       "-0.48    160.000000  160  175       171.2   None  True\n",
       "-0.32    160.000000  160  175       171.2   None  True\n",
       "-0.16    160.000000  160  175       171.2   None  True\n",
       " 0.00    160.003978  160  175       171.2   None  True\n",
       " 0.16    170.048147  160  175       171.2   None  True\n",
       " 0.32    171.871374  160  175       171.2   None  True\n",
       " 0.48    168.625751  160  175       171.2   None  True\n",
       " 0.64    160.000000  160  175       171.2   None  True\n",
       " 0.80    160.000000  160  175       171.2   None  True\n",
       " 0.96    160.000000  160  175       171.2   None  True\n",
       " 1.12    160.000000  160  175       171.2   None  True\n",
       " 1.28    160.000000  160  175       171.2   None  True\n",
       " 1.44    160.000000  160  175       171.2   None  True\n",
       " 1.60    160.000000  160  175       171.2   None  True\n",
       " 1.76    160.000000  160  175       171.2   None  True\n",
       " 1.92    160.000000  160  175       171.2   None  True\n",
       " 2.08    160.000000  160  175       171.2   None  True\n",
       " 2.24    160.000000  160  175       171.2   None  True\n",
       " 2.40    160.000002  160  175       171.2   None  True\n",
       " 2.56    160.000000  160  175       171.2   None  True\n",
       " 2.72    160.000000  160  175       171.2   None  True\n",
       " 2.88    160.000000  160  175       171.2   None  True\n",
       " 3.04    160.000000  160  175       171.2   None  True\n",
       " 3.20    160.000000  160  175       171.2   None  True\n",
       " 3.36    164.382133  160  175       171.2   None  True\n",
       " 3.52    174.999717  160  175       171.2   None  True\n",
       " 3.68    165.096109  160  175       171.2   None  True\n",
       " 3.84    167.791212  160  175       171.2   None  True\n",
       " 4.00    163.661140  160  175       171.2   None  True"
      ]
     },
     "execution_count": 49,
     "metadata": {},
     "output_type": "execute_result"
    }
   ],
   "source": [
    "fit_res.cen_y2"
   ]
  },
  {
   "cell_type": "code",
   "execution_count": 59,
   "metadata": {},
   "outputs": [
    {
     "data": {
      "text/plain": [
       "<matplotlib.axes._subplots.AxesSubplot at 0x7efc901ba898>"
      ]
     },
     "execution_count": 59,
     "metadata": {},
     "output_type": "execute_result"
    },
    {
     "data": {
      "image/png": "[encoded data removed]",
      "text/plain": [
       "<Figure size 432x288 with 1 Axes>"
      ]
     },
     "metadata": {
      "needs_background": "light"
     },
     "output_type": "display_data"
    }
   ],
   "source": [
    "fit_res['3lvl_center_od'] = fit.apply(lambda x: x.eval((x.params['cen_x2'].value,x.params['cen_y2'].value)))\n",
    "fit_res['2lvl_center_od'] = fit_res['3lvl_center_od']-fit_res.amp2.value\n",
    "fit_res['3vs2lvl_od'] = fit_res['3lvl_center_od']/fit_res['2lvl_center_od']\n",
    "fit_res['3vs2lvl_od'].plot(style='o')\n",
    "#fit_res.amp1.value.plot(style='o')"
   ]
  },
  {
   "cell_type": "code",
   "execution_count": 54,
   "metadata": {},
   "outputs": [
    {
     "ename": "TypeError",
     "evalue": "'Fit2d2Gaussian' object is not iterable",
     "output_type": "error",
     "traceback": [
      "\u001b[0;31m---------------------------------------------------------------------------\u001b[0m",
      "\u001b[0;31mTypeError\u001b[0m                                 Traceback (most recent call last)",
      "\u001b[0;32m<ipython-input-54-9728256764c8>\u001b[0m in \u001b[0;36m<module>\u001b[0;34m\u001b[0m\n\u001b[0;32m----> 1\u001b[0;31m \u001b[0;32mfor\u001b[0m \u001b[0mf\u001b[0m \u001b[0;32min\u001b[0m \u001b[0mfit\u001b[0m\u001b[0;34m:\u001b[0m\u001b[0;34m\u001b[0m\u001b[0;34m\u001b[0m\u001b[0m\n\u001b[0m\u001b[1;32m      2\u001b[0m     \u001b[0mf\u001b[0m\u001b[0;34m.\u001b[0m\u001b[0mfit_object\u001b[0m\u001b[0;34m\u001b[0m\u001b[0;34m\u001b[0m\u001b[0m\n\u001b[1;32m      3\u001b[0m     \u001b[0mfig\u001b[0m\u001b[0;34m,\u001b[0m\u001b[0max\u001b[0m \u001b[0;34m=\u001b[0m \u001b[0mplt\u001b[0m\u001b[0;34m.\u001b[0m\u001b[0msubplots\u001b[0m\u001b[0;34m(\u001b[0m\u001b[0mfigsize\u001b[0m\u001b[0;34m=\u001b[0m\u001b[0;34m(\u001b[0m\u001b[0;36m20\u001b[0m\u001b[0;34m,\u001b[0m\u001b[0;36m10\u001b[0m\u001b[0;34m)\u001b[0m\u001b[0;34m)\u001b[0m\u001b[0;34m\u001b[0m\u001b[0;34m\u001b[0m\u001b[0m\n\u001b[1;32m      4\u001b[0m     \u001b[0mf\u001b[0m\u001b[0;34m.\u001b[0m\u001b[0mplot\u001b[0m\u001b[0;34m(\u001b[0m\u001b[0max\u001b[0m\u001b[0;34m=\u001b[0m\u001b[0max\u001b[0m\u001b[0;34m,\u001b[0m\u001b[0mimage_kwargs\u001b[0m\u001b[0;34m=\u001b[0m\u001b[0mdict\u001b[0m\u001b[0;34m(\u001b[0m\u001b[0mvmin\u001b[0m\u001b[0;34m=\u001b[0m\u001b[0;36m0.\u001b[0m\u001b[0;34m,\u001b[0m\u001b[0mvmax\u001b[0m\u001b[0;34m=\u001b[0m\u001b[0;36m0.6\u001b[0m\u001b[0;34m)\u001b[0m\u001b[0;34m)\u001b[0m\u001b[0;34m\u001b[0m\u001b[0;34m\u001b[0m\u001b[0m\n",
      "\u001b[0;31mTypeError\u001b[0m: 'Fit2d2Gaussian' object is not iterable"
     ]
    }
   ],
   "source": [
    "for f in fit:\n",
    "    f.fit_object\n",
    "    fig,ax = plt.subplots(figsize=(20,10))\n",
    "    f.plot(ax=ax,image_kwargs=dict(vmin=0.,vmax=0.6))"
   ]
  },
  {
   "cell_type": "markdown",
   "metadata": {},
   "source": [
    "### Group density bins"
   ]
  },
  {
   "cell_type": "code",
   "execution_count": null,
   "metadata": {},
   "outputs": [],
   "source": [
    "results = pd.DataFrame()\n",
    "data1['fitted_amp_binning'] =  pd.cut(data1.amp.value,bins = np.linspace(0.2,0.7,15))\n",
    "grouping = data1.groupby('fitted_amp_binning')\n",
    "results['averaged_od'] = grouping.apply(stderr_weighted_average)\n",
    "\n",
    "fit = results['averaged_od'].apply(fit22dGaussian)\n",
    "fit_res = fit.apply(fittoSeries)\n",
    "\n",
    "fit_res['3lvl_center_od'] = fit.apply(lambda x: x.eval((x.params['cen_x2'].value,x.params['cen_y2'].value)))\n",
    "#fit_res['3lvl_center_od_std'] = np.sqrt(np.square(fit_res.amp2.stderr) +np.square(fit_res.amp1.stderr**2))\n",
    "fit_res['2lvl_center_od'] = fit_res['3lvl_center_od']-fit_res.amp2.value\n",
    "#fit_res['2lvl_center_od_std'] = fit_res.amp1.stderr\n",
    "fit_res['3vs2lvl_od'] = fit_res['3lvl_center_od']/fit_res['2lvl_center_od']"
   ]
  },
  {
   "cell_type": "code",
   "execution_count": null,
   "metadata": {},
   "outputs": [],
   "source": [
    "def three_vs_two_lvl(n,r0,n0):\n",
    "    fbl = n0*n**(4./5)\n",
    "    return (r0 + fbl)/(1+fbl)\n",
    "model = Model(three_vs_two_lvl)\n",
    "params = model.make_params()\n",
    "params['r0'].value = 0.66\n",
    "params['n0'].value = 1"
   ]
  },
  {
   "cell_type": "code",
   "execution_count": null,
   "metadata": {},
   "outputs": [],
   "source": [
    "out = model.fit(fit_res['3vs2lvl_od'].values,n=fit_res['2lvl_center_od'],params=params,nan_policy='omit')"
   ]
  },
  {
   "cell_type": "code",
   "execution_count": null,
   "metadata": {},
   "outputs": [],
   "source": [
    "fit_res.plot(y=\"3vs2lvl_od\",x=\"2lvl_center_od\",style='o-')\n",
    "x=np.arange(0.2,0.8,0.01)"
   ]
  },
  {
   "cell_type": "code",
   "execution_count": null,
   "metadata": {},
   "outputs": [],
   "source": [
    "for f in fit:\n",
    "    fig,ax = plt.subplots(figsize=(20,10))\n",
    "    f.plot(ax=ax,image_kwargs=dict(vmin=0,vmax=1.5))"
   ]
  },
  {
   "cell_type": "code",
   "execution_count": null,
   "metadata": {},
   "outputs": [],
   "source": [
    "for fit in results.fit:\n",
    "    fit.fit_object\n",
    "    fig,ax = plt.subplots(figsize=(20,10))\n",
    "    fit.plot(ax=ax,image_kwargs=dict(vmin=0.,vmax=0.8))"
   ]
  },
  {
   "cell_type": "code",
   "execution_count": null,
   "metadata": {},
   "outputs": [],
   "source": [
    "results=pd.DataFrame()\n",
    "results['averaged_od'] = data.groupby('MWduration')['image_od'].apply(np.mean)\n",
    "results['fit']=results['averaged_od'].apply(fit22dGaussian)\n",
    "#results['par'] = results['fit'].apply(lambda x: x.params)\n",
    "results['center_od_ratio'] = results['fit'].apply(center_od_ratio)\n",
    "results['fitted_amp1'] = results['fit'].apply(lambda x: x.params['amp1'].value)\n",
    "results['fitted_amp2'] = results['fit'].apply(lambda x: x.params['amp2'].value)"
   ]
  },
  {
   "cell_type": "code",
   "execution_count": null,
   "metadata": {},
   "outputs": [],
   "source": [
    "results.center_od_ratio.plot(style='o')\n",
    "#results.fitted_amp2.plot(style = 'o')"
   ]
  },
  {
   "cell_type": "code",
   "execution_count": null,
   "metadata": {},
   "outputs": [],
   "source": [
    "results.plot(y='center_od_ratio',x='fitted_amp1',style='o')"
   ]
  },
  {
   "cell_type": "code",
   "execution_count": null,
   "metadata": {},
   "outputs": [],
   "source": [
    "for fit in results.fit:\n",
    "    fit.fit_object\n",
    "    fig,ax = plt.subplots(figsize=(20,10))\n",
    "    fit.plot(ax=ax,image_kwargs=dict(vmin=0.,vmax=0.8))"
   ]
  },
  {
   "cell_type": "code",
   "execution_count": null,
   "metadata": {},
   "outputs": [],
   "source": []
  },
  {
   "cell_type": "code",
   "execution_count": null,
   "metadata": {},
   "outputs": [],
   "source": []
  },
  {
   "cell_type": "code",
   "execution_count": null,
   "metadata": {},
   "outputs": [],
   "source": []
  },
  {
   "cell_type": "code",
   "execution_count": null,
   "metadata": {},
   "outputs": [],
   "source": []
  }
 ],
 "metadata": {
  "kernelspec": {
   "display_name": "Python 3",
   "language": "python",
   "name": "python3"
  },
  "language_info": {
   "codemirror_mode": {
    "name": "ipython",
    "version": 3
   },
   "file_extension": ".py",
   "mimetype": "text/x-python",
   "name": "python",
   "nbconvert_exporter": "python",
   "pygments_lexer": "ipython3",
   "version": "3.7.3"
  }
 },
 "nbformat": 4,
 "nbformat_minor": 2
}
