{
 "cells": [
  {
   "cell_type": "code",
   "execution_count": null,
   "metadata": {},
   "outputs": [],
   "source": [
    "import sys\n",
    "import numpy as np\n",
    "sys.path.insert(0, '/home/david/Institut/rydanalysis/')\n",
    "from rydanalysis import *\n",
    "import matplotlib.pyplot as plt\n",
    "import seaborn as sns\n",
    "import matplotlib as mpl\n",
    "from scipy import interpolate\n",
    "mpl.rc('image', cmap='afmhot')\n",
    "sns.set_style(\"whitegrid\")\n",
    "from lmfit import Model,Parameters\n",
    "from scipy import ndimage\n",
    "seq = ExpSequence('/home/qd/Schreibtisch/Data/2019_IEI_new/July/20/DENSITYSCAN')\n",
    "#shot = SingleShot(\"/home/david/Institut/2019_IEI/July/02/scanblueresonance_FINAL_averaged_images/2019-06-05_00.fts\")\n",
    "                  \n",
    "#seq.parameters['p' in seq.parameters.index]"
   ]
  },
  {
   "cell_type": "code",
   "execution_count": null,
   "metadata": {},
   "outputs": [],
   "source": [
    "variables= seq.variables.copy()\n",
    "variables.insert(0,'fitted_amp',0)\n",
    "variables.insert(0,'pixel_sum',0)\n",
    "\n",
    "for i,shot in enumerate(seq.iter_single_shots()):\n",
    "    image=shot.image\n",
    "    absorb = calc_absorbtion_image(image)\n",
    "    absorb = crop_image(absorb,xslice=slice(10,90),yslice=slice(10,380))\n",
    "    od = absorbtion_to_OD(absorb)\n",
    "    shot.optical_density = od"
   ]
  },
  {
   "cell_type": "code",
   "execution_count": null,
   "metadata": {},
   "outputs": [],
   "source": [
    "#od = ndimage.gaussian_filter(od, 4, order=0, output=None, mode='constant', cval=0.0, truncate=4.0)\n",
    "\n",
    "def fit2dGaussian(image):\n",
    "    image = ndimage.gaussian_filter(image, 8, order=0, output=None, mode='constant', cval=0.0, truncate=4.0)\n",
    "    fit = Fit2dGaussian(image)\n",
    "    fit.params = fit.guess(image)\n",
    "    #fit.params = restrict_to_init(fit.params,dev=0.2)\n",
    "    #fit.params['amp'].max = fit.params['amp'].value*(1+0.5)\n",
    "    #fit.params['amp'].min = fit.params['amp'].value*(1-0.5)\n",
    "    #fit.params['cen_x'].max = fit.params['amp'].value*(1+0.1)\n",
    "    #fit.params['cen_x'].min = fit.params['amp'].value*(1-0.1)\n",
    "    #fit.params['cen_y'].max = fit.params['amp'].value*(1+0.1)\n",
    "    #fit.params['cen_y'].min = fit.params['amp'].value*(1-0.1)\n",
    "    #fit.params['offset'].max = fit.params['amp'].value*(1+2)\n",
    "    \n",
    "    fit.params['offset'].vary = False\n",
    "    fit.params['offset'].value = 0\n",
    "\n",
    "    fit.fit_data()\n",
    "    return fittoSeries(fit)\n",
    "\n",
    "def fit22dGaussian(image):\n",
    "    #image = ndimage.gaussian_filter(image, 8, order=0, output=None, mode='constant', cval=0.0, truncate=4.0)\n",
    "    fit = Fit2d2Gaussian(image)\n",
    "    #fit.params = fit.guess(image)\n",
    "    # cloud distribution\n",
    "    params = fit.params\n",
    "    params.add('amp1',value=0.0)\n",
    "    params.add('cen_y1',value=160,min=140,max=180)\n",
    "    params.add('cen_x1',value=45,min=30,max=60)\n",
    "    params.add('sig_x1',value=5,min=30,max=200)\n",
    "    params.add('sig_y1',value=5,min=30,max=200)\n",
    "    params.add('theta1',value=0,min=0,max=np.pi)\n",
    "\n",
    "    # EIT/Autler-Townes-dip\n",
    "    params.add('amp2',value=0.00)\n",
    "    params.add('cen_y2',value=171.2,min=165,max=175)\n",
    "    params.add('cen_x2',value=48.1,min=45,max=55)\n",
    "    params.add('sig_x2',value=4.5,min=3,max=15)\n",
    "    params.add('sig_y2',expr='sig_x2')\n",
    "    params.add('theta2',value=0,min=0,max=np.pi)\n",
    "\n",
    "    # offset\n",
    "    params.add('offset',value=0,vary=False)\n",
    "    fit.params = params\n",
    "    fit.fit_data()\n",
    "    return fit\n",
    "\n",
    "def Series2Parameter(s):\n",
    "    p = Parameters()\n",
    "    keys = ['value','min','max','vary']\n",
    "    for l in s.groupby(level=0):\n",
    "        print(l[1])\n",
    "        i = l[1:]\n",
    "        name = i[0]\n",
    "        kwargs = {k: i[1][name][k] for k in keys}\n",
    "        p.add(name, **kwargs)\n",
    "    return p\n",
    "\n",
    "def stderr_weighted_average(g):\n",
    "    rel_err = g.amp.stderr/g.amp.value\n",
    "    weights = 1/rel_err\n",
    "    return (g.image_od * weights).sum()/weights.sum()\n",
    "\n",
    "\n",
    "\n",
    "\n",
    "data = seq.variables.copy()\n",
    "\n",
    "\n",
    "data['image_od'] = [shot.optical_density[0] for shot in seq.iter_single_shots()]\n",
    "\n",
    "data['image_light'] = [shot.image[3] for shot in seq.iter_single_shots()]\n",
    "data['image_atoms'] = [shot.image[1] for shot in seq.iter_single_shots()]\n",
    "data['image_bg'] = [shot.image[5] for shot in seq.iter_single_shots()]\n",
    "\n",
    "data['light'] = data.image_light-data.image_bg\n",
    "data['atoms'] = data.image_atoms-data.image_bg\n",
    "data['diff'] = data.light- data.atoms\n",
    "\n"
   ]
  },
  {
   "cell_type": "code",
   "execution_count": 12,
   "metadata": {},
   "outputs": [
    {
     "ename": "ValueError",
     "evalue": "['image_od' 'image_light' 'image_atoms' 'image_bg' 'light' 'atoms' 'diff'] not contained in the index",
     "output_type": "error",
     "traceback": [
      "\u001b[0;31m---------------------------------------------------------------------------\u001b[0m",
      "\u001b[0;31mValueError\u001b[0m                                Traceback (most recent call last)",
      "\u001b[0;32m<ipython-input-12-68aff26b5647>\u001b[0m in \u001b[0;36m<module>\u001b[0;34m()\u001b[0m\n\u001b[1;32m      1\u001b[0m \u001b[0mfit_res\u001b[0m \u001b[0;34m=\u001b[0m \u001b[0mdata\u001b[0m\u001b[0;34m[\u001b[0m\u001b[0;34m'image_od'\u001b[0m\u001b[0;34m]\u001b[0m\u001b[0;34m.\u001b[0m\u001b[0mapply\u001b[0m\u001b[0;34m(\u001b[0m\u001b[0mfit2dGaussian\u001b[0m\u001b[0;34m)\u001b[0m\u001b[0;34m\u001b[0m\u001b[0m\n\u001b[1;32m      2\u001b[0m \u001b[0mfit_res\u001b[0m\u001b[0;34m.\u001b[0m\u001b[0mto_csv\u001b[0m\u001b[0;34m(\u001b[0m\u001b[0;34m'fit_res.csv'\u001b[0m\u001b[0;34m)\u001b[0m\u001b[0;34m\u001b[0m\u001b[0m\n\u001b[0;32m----> 3\u001b[0;31m \u001b[0mfit_res\u001b[0m\u001b[0;34m[\u001b[0m\u001b[0mdata\u001b[0m\u001b[0;34m.\u001b[0m\u001b[0mcolumns\u001b[0m\u001b[0;34m]\u001b[0m \u001b[0;34m=\u001b[0m \u001b[0mdata\u001b[0m\u001b[0;34m\u001b[0m\u001b[0m\n\u001b[0m\u001b[1;32m      4\u001b[0m \u001b[0mdata\u001b[0m \u001b[0;34m=\u001b[0m \u001b[0mfit_res\u001b[0m\u001b[0;34m\u001b[0m\u001b[0m\n\u001b[1;32m      5\u001b[0m \u001b[0;34m\u001b[0m\u001b[0m\n",
      "\u001b[0;32m/home/qd/anaconda3/lib/python3.5/site-packages/pandas/core/series.py\u001b[0m in \u001b[0;36m__setitem__\u001b[0;34m(self, key, value)\u001b[0m\n\u001b[1;32m    937\u001b[0m         \u001b[0;31m# do the setitem\u001b[0m\u001b[0;34m\u001b[0m\u001b[0;34m\u001b[0m\u001b[0m\n\u001b[1;32m    938\u001b[0m         \u001b[0mcacher_needs_updating\u001b[0m \u001b[0;34m=\u001b[0m \u001b[0mself\u001b[0m\u001b[0;34m.\u001b[0m\u001b[0m_check_is_chained_assignment_possible\u001b[0m\u001b[0;34m(\u001b[0m\u001b[0;34m)\u001b[0m\u001b[0;34m\u001b[0m\u001b[0m\n\u001b[0;32m--> 939\u001b[0;31m         \u001b[0msetitem\u001b[0m\u001b[0;34m(\u001b[0m\u001b[0mkey\u001b[0m\u001b[0;34m,\u001b[0m \u001b[0mvalue\u001b[0m\u001b[0;34m)\u001b[0m\u001b[0;34m\u001b[0m\u001b[0m\n\u001b[0m\u001b[1;32m    940\u001b[0m         \u001b[0;32mif\u001b[0m \u001b[0mcacher_needs_updating\u001b[0m\u001b[0;34m:\u001b[0m\u001b[0;34m\u001b[0m\u001b[0m\n\u001b[1;32m    941\u001b[0m             \u001b[0mself\u001b[0m\u001b[0;34m.\u001b[0m\u001b[0m_maybe_update_cacher\u001b[0m\u001b[0;34m(\u001b[0m\u001b[0;34m)\u001b[0m\u001b[0;34m\u001b[0m\u001b[0m\n",
      "\u001b[0;32m/home/qd/anaconda3/lib/python3.5/site-packages/pandas/core/series.py\u001b[0m in \u001b[0;36msetitem\u001b[0;34m(key, value)\u001b[0m\n\u001b[1;32m    933\u001b[0m                     \u001b[0;32mpass\u001b[0m\u001b[0;34m\u001b[0m\u001b[0m\n\u001b[1;32m    934\u001b[0m \u001b[0;34m\u001b[0m\u001b[0m\n\u001b[0;32m--> 935\u001b[0;31m             \u001b[0mself\u001b[0m\u001b[0;34m.\u001b[0m\u001b[0m_set_with\u001b[0m\u001b[0;34m(\u001b[0m\u001b[0mkey\u001b[0m\u001b[0;34m,\u001b[0m \u001b[0mvalue\u001b[0m\u001b[0;34m)\u001b[0m\u001b[0;34m\u001b[0m\u001b[0m\n\u001b[0m\u001b[1;32m    936\u001b[0m \u001b[0;34m\u001b[0m\u001b[0m\n\u001b[1;32m    937\u001b[0m         \u001b[0;31m# do the setitem\u001b[0m\u001b[0;34m\u001b[0m\u001b[0;34m\u001b[0m\u001b[0m\n",
      "\u001b[0;32m/home/qd/anaconda3/lib/python3.5/site-packages/pandas/core/series.py\u001b[0m in \u001b[0;36m_set_with\u001b[0;34m(self, key, value)\u001b[0m\n\u001b[1;32m    981\u001b[0m                 \u001b[0mself\u001b[0m\u001b[0;34m.\u001b[0m\u001b[0m_set_values\u001b[0m\u001b[0;34m(\u001b[0m\u001b[0mkey\u001b[0m\u001b[0;34m.\u001b[0m\u001b[0mastype\u001b[0m\u001b[0;34m(\u001b[0m\u001b[0mnp\u001b[0m\u001b[0;34m.\u001b[0m\u001b[0mbool_\u001b[0m\u001b[0;34m)\u001b[0m\u001b[0;34m,\u001b[0m \u001b[0mvalue\u001b[0m\u001b[0;34m)\u001b[0m\u001b[0;34m\u001b[0m\u001b[0m\n\u001b[1;32m    982\u001b[0m             \u001b[0;32melse\u001b[0m\u001b[0;34m:\u001b[0m\u001b[0;34m\u001b[0m\u001b[0m\n\u001b[0;32m--> 983\u001b[0;31m                 \u001b[0mself\u001b[0m\u001b[0;34m.\u001b[0m\u001b[0m_set_labels\u001b[0m\u001b[0;34m(\u001b[0m\u001b[0mkey\u001b[0m\u001b[0;34m,\u001b[0m \u001b[0mvalue\u001b[0m\u001b[0;34m)\u001b[0m\u001b[0;34m\u001b[0m\u001b[0m\n\u001b[0m\u001b[1;32m    984\u001b[0m \u001b[0;34m\u001b[0m\u001b[0m\n\u001b[1;32m    985\u001b[0m     \u001b[0;32mdef\u001b[0m \u001b[0m_set_labels\u001b[0m\u001b[0;34m(\u001b[0m\u001b[0mself\u001b[0m\u001b[0;34m,\u001b[0m \u001b[0mkey\u001b[0m\u001b[0;34m,\u001b[0m \u001b[0mvalue\u001b[0m\u001b[0;34m)\u001b[0m\u001b[0;34m:\u001b[0m\u001b[0;34m\u001b[0m\u001b[0m\n",
      "\u001b[0;32m/home/qd/anaconda3/lib/python3.5/site-packages/pandas/core/series.py\u001b[0m in \u001b[0;36m_set_labels\u001b[0;34m(self, key, value)\u001b[0m\n\u001b[1;32m    991\u001b[0m         \u001b[0mmask\u001b[0m \u001b[0;34m=\u001b[0m \u001b[0mindexer\u001b[0m \u001b[0;34m==\u001b[0m \u001b[0;34m-\u001b[0m\u001b[0;36m1\u001b[0m\u001b[0;34m\u001b[0m\u001b[0m\n\u001b[1;32m    992\u001b[0m         \u001b[0;32mif\u001b[0m \u001b[0mmask\u001b[0m\u001b[0;34m.\u001b[0m\u001b[0many\u001b[0m\u001b[0;34m(\u001b[0m\u001b[0;34m)\u001b[0m\u001b[0;34m:\u001b[0m\u001b[0;34m\u001b[0m\u001b[0m\n\u001b[0;32m--> 993\u001b[0;31m             \u001b[0;32mraise\u001b[0m \u001b[0mValueError\u001b[0m\u001b[0;34m(\u001b[0m\u001b[0;34m'%s not contained in the index'\u001b[0m \u001b[0;34m%\u001b[0m \u001b[0mstr\u001b[0m\u001b[0;34m(\u001b[0m\u001b[0mkey\u001b[0m\u001b[0;34m[\u001b[0m\u001b[0mmask\u001b[0m\u001b[0;34m]\u001b[0m\u001b[0;34m)\u001b[0m\u001b[0;34m)\u001b[0m\u001b[0;34m\u001b[0m\u001b[0m\n\u001b[0m\u001b[1;32m    994\u001b[0m         \u001b[0mself\u001b[0m\u001b[0;34m.\u001b[0m\u001b[0m_set_values\u001b[0m\u001b[0;34m(\u001b[0m\u001b[0mindexer\u001b[0m\u001b[0;34m,\u001b[0m \u001b[0mvalue\u001b[0m\u001b[0;34m)\u001b[0m\u001b[0;34m\u001b[0m\u001b[0m\n\u001b[1;32m    995\u001b[0m \u001b[0;34m\u001b[0m\u001b[0m\n",
      "\u001b[0;31mValueError\u001b[0m: ['image_od' 'image_light' 'image_atoms' 'image_bg' 'light' 'atoms' 'diff'] not contained in the index"
     ]
    }
   ],
   "source": [
    "fit_res = data['image_od'].apply(fit2dGaussian)\n",
    "fit_res.to_csv('fit_res.csv')\n",
    "fit_res[data.columns] = data\n",
    "data = fit_res\n",
    "\n",
    "data['counts'] = data['diff'].apply(lambda x: x[20:30,120:130].mean())\n",
    "\n",
    "sums = data.image_od.apply(np.mean)\n",
    "\n",
    "plt.figure(figsize=(8,5))\n",
    "sns.lineplot(x=data.MWduration,y=data.counts,markers='O',hue_norm=(0,0.0015))\n",
    "sns.scatterplot(x=data.MWduration,y=data.counts,markers='O',hue_norm=(0,0.0015))"
   ]
  },
  {
   "cell_type": "code",
   "execution_count": null,
   "metadata": {},
   "outputs": [],
   "source": [
    "data.groupby('MWduration')['counts'].std().plot()\n",
    "fig,ax=plt.subplots(nrows=4,ncols=4,figsize=(20,20))\n"
   ]
  },
  {
   "cell_type": "code",
   "execution_count": null,
   "metadata": {},
   "outputs": [],
   "source": [
    "for i,group in enumerate(data.groupby('MWduration')):\n",
    "    sns.distplot(group[1].counts,bins=8,ax=ax.flatten()[i])"
   ]
  },
  {
   "cell_type": "code",
   "execution_count": null,
   "metadata": {},
   "outputs": [],
   "source": [
    "plt.figure(figsize=(8,5))\n",
    "sns.scatterplot(x=data.MWduration,y=data.amp.value,hue = data.amp.stderr,markers='O',hue_norm=(0,0.0010))\n",
    "sns.lineplot(x=data.MWduration,y=data.amp.value)\n"
   ]
  },
  {
   "cell_type": "code",
   "execution_count": null,
   "metadata": {},
   "outputs": [],
   "source": [
    "fig,ax=plt.subplots(nrows=4,ncols=4,figsize=(20,20))\n",
    "for i,group in enumerate(data.groupby('MWduration')):\n",
    "    sns.distplot(group[1].amp.value,bins=7,ax=ax.flatten()[i])"
   ]
  },
  {
   "cell_type": "code",
   "execution_count": null,
   "metadata": {},
   "outputs": [],
   "source": [
    "fig,ax=plt.subplots(nrows=4,ncols=4,figsize=(20,20))\n",
    "for i,group in enumerate(data.groupby('MWduration')):\n",
    "    sns.distplot(group[1].cen_y.value,bins=7,ax=ax.flatten()[i])"
   ]
  },
  {
   "cell_type": "markdown",
   "metadata": {},
   "source": [
    "data['atoms'].apply(lambda x: x[]"
   ]
  },
  {
   "cell_type": "markdown",
   "metadata": {},
   "source": [
    "Apply conditional filters to data set"
   ]
  },
  {
   "cell_type": "code",
   "execution_count": null,
   "metadata": {},
   "outputs": [],
   "source": [
    "plt.errorbar(x=data.groupby('MWduration').mean().index, y=data.groupby('MWduration').mean().cen_y.value.values,yerr=data.groupby('MWduration').apply(np.std).cen_y.value.values)"
   ]
  },
  {
   "cell_type": "code",
   "execution_count": null,
   "metadata": {},
   "outputs": [],
   "source": [
    "data.groupby('MWduration').apply(np.std).cen_y.value.values"
   ]
  },
  {
   "cell_type": "markdown",
   "metadata": {},
   "source": [
    "### Group by *MWduration*"
   ]
  },
  {
   "cell_type": "code",
   "execution_count": null,
   "metadata": {},
   "outputs": [],
   "source": [
    "plt.figure(figsize=(10,10))\n",
    "for i,group in enumerate(data.groupby('MWduration')):\n",
    "    if i ==4:\n",
    "        group[1].amp.value.plot(style='.-')"
   ]
  },
  {
   "cell_type": "code",
   "execution_count": null,
   "metadata": {},
   "outputs": [],
   "source": [
    "mw_av = data.groupby('MWduration')['image_od'].apply(np.mean)\n",
    "\n",
    "fit = mw_av.apply(fit22dGaussian)\n",
    "fit_res = fit.apply(fittoSeries)\n",
    "\n",
    "fit_res['3lvl_center_od'] = fit.apply(lambda x: x.eval((x.params['cen_x2'].value,x.params['cen_y2'].value)))\n",
    "fit_res['2lvl_center_od'] = fit_res['3lvl_center_od']-fit_res.amp2.value\n",
    "fit_res['3vs2lvl_od'] = fit_res['3lvl_center_od']/fit_res['2lvl_center_od']\n",
    "fit_res['2lvl_center_od'].plot(style='o')\n",
    "fit_res.amp1.value.plot(style='o')"
   ]
  },
  {
   "cell_type": "code",
   "execution_count": null,
   "metadata": {},
   "outputs": [],
   "source": [
    "fit_res.to_hdf('fit_res.h5', key='df')"
   ]
  },
  {
   "cell_type": "code",
   "execution_count": null,
   "metadata": {},
   "outputs": [],
   "source": [
    "test = pd.read_hdf('fit_res.h5')"
   ]
  },
  {
   "cell_type": "code",
   "execution_count": null,
   "metadata": {},
   "outputs": [],
   "source": [
    "test"
   ]
  },
  {
   "cell_type": "code",
   "execution_count": null,
   "metadata": {},
   "outputs": [],
   "source": [
    "fit_res.plot(y=\"3vs2lvl_od\",x=\"2lvl_center_od\",style='o-')"
   ]
  },
  {
   "cell_type": "markdown",
   "metadata": {},
   "source": [
    "### Group density bins"
   ]
  },
  {
   "cell_type": "code",
   "execution_count": null,
   "metadata": {},
   "outputs": [],
   "source": [
    "results = pd.DataFrame()\n",
    "data['fitted_amp_binning'] =  pd.cut(data.amp.value,bins = np.linspace(0.2,0.7,15))\n",
    "grouping = data.groupby('fitted_amp_binning')\n",
    "results['averaged_od'] = grouping.apply(stderr_weighted_average)\n",
    "\n",
    "fit = results['averaged_od'].apply(fit22dGaussian)\n",
    "fit_res = fit.apply(fittoSeries)\n",
    "\n",
    "fit_res['3lvl_center_od'] = fit.apply(lambda x: x.eval((x.params['cen_x2'].value,x.params['cen_y2'].value)))\n",
    "#fit_res['3lvl_center_od_std'] = np.sqrt(np.square(fit_res.amp2.stderr) +np.square(fit_res.amp1.stderr**2))\n",
    "fit_res['2lvl_center_od'] = fit_res['3lvl_center_od']-fit_res.amp2.value\n",
    "#fit_res['2lvl_center_od_std'] = fit_res.amp1.stderr\n",
    "fit_res['3vs2lvl_od'] = fit_res['3lvl_center_od']/fit_res['2lvl_center_od']"
   ]
  },
  {
   "cell_type": "code",
   "execution_count": null,
   "metadata": {},
   "outputs": [],
   "source": [
    "def three_vs_two_lvl(n,r0,n0):\n",
    "    fbl = n0*n**(4./5)\n",
    "    return (r0 + fbl)/(1+fbl)\n",
    "model = Model(three_vs_two_lvl)\n",
    "params = model.make_params()\n",
    "params['r0'].value = 0.66\n",
    "params['n0'].value = 1"
   ]
  },
  {
   "cell_type": "code",
   "execution_count": null,
   "metadata": {},
   "outputs": [],
   "source": [
    "out = model.fit(fit_res['3vs2lvl_od'].values,n=fit_res['2lvl_center_od'],params=params,nan_policy='omit')"
   ]
  },
  {
   "cell_type": "code",
   "execution_count": null,
   "metadata": {},
   "outputs": [],
   "source": [
    "fit_res.plot(y=\"3vs2lvl_od\",x=\"2lvl_center_od\",style='o-')\n",
    "x=np.arange(0.2,0.8,0.01)"
   ]
  },
  {
   "cell_type": "code",
   "execution_count": null,
   "metadata": {},
   "outputs": [],
   "source": [
    "for f in fit:\n",
    "    fig,ax = plt.subplots(figsize=(20,10))\n",
    "    f.plot(ax=ax,image_kwargs=dict(vmin=0,vmax=1.5))"
   ]
  },
  {
   "cell_type": "code",
   "execution_count": null,
   "metadata": {},
   "outputs": [],
   "source": [
    "for fit in results.fit:\n",
    "    fit.fit_object\n",
    "    fig,ax = plt.subplots(figsize=(20,10))\n",
    "    fit.plot(ax=ax,image_kwargs=dict(vmin=0.,vmax=0.8))"
   ]
  },
  {
   "cell_type": "code",
   "execution_count": null,
   "metadata": {},
   "outputs": [],
   "source": [
    "results=pd.DataFrame()\n",
    "results['averaged_od'] = data.groupby('MWduration')['image_od'].apply(np.mean)\n",
    "results['fit']=results['averaged_od'].apply(fit22dGaussian)\n",
    "#results['par'] = results['fit'].apply(lambda x: x.params)\n",
    "results['center_od_ratio'] = results['fit'].apply(center_od_ratio)\n",
    "results['fitted_amp1'] = results['fit'].apply(lambda x: x.params['amp1'].value)\n",
    "results['fitted_amp2'] = results['fit'].apply(lambda x: x.params['amp2'].value)"
   ]
  },
  {
   "cell_type": "code",
   "execution_count": null,
   "metadata": {},
   "outputs": [],
   "source": [
    "results.center_od_ratio.plot(style='o')\n",
    "#results.fitted_amp2.plot(style = 'o')"
   ]
  },
  {
   "cell_type": "code",
   "execution_count": null,
   "metadata": {},
   "outputs": [],
   "source": [
    "results.plot(y='center_od_ratio',x='fitted_amp1',style='o')"
   ]
  },
  {
   "cell_type": "code",
   "execution_count": null,
   "metadata": {},
   "outputs": [],
   "source": [
    "for fit in results.fit:\n",
    "    fit.fit_object\n",
    "    fig,ax = plt.subplots(figsize=(20,10))\n",
    "    fit.plot(ax=ax,image_kwargs=dict(vmin=0.,vmax=0.8))"
   ]
  }
 ],
 "metadata": {
  "kernelspec": {
   "display_name": "Python 3",
   "language": "python",
   "name": "python3"
  },
  "language_info": {
   "codemirror_mode": {
    "name": "ipython",
    "version": 3
   },
   "file_extension": ".py",
   "mimetype": "text/x-python",
   "name": "python",
   "nbconvert_exporter": "python",
   "pygments_lexer": "ipython3",
   "version": "3.5.6"
  }
 },
 "nbformat": 4,
 "nbformat_minor": 2
}
