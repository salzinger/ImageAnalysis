{
 "cells": [
  {
   "cell_type": "markdown",
   "metadata": {
    "nbpresent": {
     "id": "5f3e09cc-d92d-4e27-9c25-3c4e83050783"
    }
   },
   "source": [
    "## Generate FITS Files"
   ]
  },
  {
   "cell_type": "markdown",
   "metadata": {
    "nbpresent": {
     "id": "66b281ca-828e-46dd-8530-96c6b541c6dc"
    }
   },
   "source": [
    "25.05.2018"
   ]
  },
  {
   "cell_type": "code",
   "execution_count": null,
   "metadata": {
    "nbpresent": {
     "id": "7e26e2d0-a42f-406b-b829-313582dbf2be"
    }
   },
   "outputs": [],
   "source": [
    "%matplotlib inline\n",
    "import warnings; warnings.simplefilter('ignore')\n",
    "import matplotlib.pyplot as plt\n",
    "#import matplotlib.gridspec as gridspec\n",
    "#import matplotlib\n",
    "import numpy as np\n",
    "import pandas as pd\n",
    "from os import listdir\n",
    "from astropy.io import fits\n",
    "import scipy.optimize as opt\n",
    "import rydlab\n",
    "from tqdm import tqdm_notebook\n",
    "from matplotlib.patches import Arrow, Circle\n",
    "#import peakutils\n",
    "import numpy.ma as ma\n",
    "from lmfit import  Model\n",
    "import os\n",
    "import numpy.ma as ma\n",
    "import random\n",
    "\n",
    "\n",
    "pd.options.display.max_colwidth = 120\n",
    "\n",
    "font = {'family' : 'normal',\n",
    "        'weight' : 'normal',\n",
    "        'size'   : 14}\n",
    "\n",
    "#matplotlib.rc('font', **font)\n",
    "\n",
    "binning_scale = 1\n",
    "\n",
    "path = '/home/qd/Schreibtisch/Data'\n",
    "folders = rydlab.analyze_folder(path)\n",
    "folders"
   ]
  },
  {
   "cell_type": "code",
   "execution_count": null,
   "metadata": {
    "nbpresent": {
     "id": "6d0afb67-c456-4866-b3ed-e25a6ee6788a"
    }
   },
   "outputs": [],
   "source": [
    "folder=folders.Name[1]\n",
    "print(folder)\n",
    "rydlab.parse_folder(folder)\n",
    "variable = rydlab.get_variables(folder)\n",
    "paths = rydlab.get_paths(folder)\n",
    "#print(paths)"
   ]
  },
  {
   "cell_type": "code",
   "execution_count": null,
   "metadata": {
    "nbpresent": {
     "id": "46c3e578-b12d-4d68-b641-a02db9b70d60"
    }
   },
   "outputs": [],
   "source": [
    "# --------------------------------------------------------------------------\n",
    "# ----- MAKE CHANGES HERE --------------------------------------------------\n",
    "# --------------------------------------------------------------------------\n",
    "date = '2019-07-17' # date of measurement\n",
    "atoms =  1  # number of image in fits file\n",
    "beam = 3\n",
    "bg = 5\n",
    "# --------------------------------------------------------------------------\n",
    "# --------------------------------------------------------------------------\n",
    "\n",
    "\n",
    "\n",
    "# ----- initialisations --------------------------------------------------\n",
    "\n",
    "os.mkdir(folder+'_averaged_images')\n",
    "savefolder = folder+'_averaged_images/'\n",
    "\n",
    "print(savefolder)\n",
    "\n",
    "\n",
    "iterator = tqdm_notebook(range(len(paths['images'])),desc='calculating...', leave=False) \n",
    "variableList = []\n",
    "\n",
    "\n",
    "# ---- calculate averaged images ---------------------------------------------\n",
    "\n",
    "for j in iterator:\n",
    "    \n",
    "    # ---- remove non existing images, when a run was not completed ---------\n",
    "    bad_images = []\n",
    "    for w in range(len(paths['images'].iloc[j])):\n",
    "        if paths['images'].iloc[j][w][-4:] == 'None':\n",
    "            bad_images.append(w)\n",
    "\n",
    "    if len(bad_images)==0:\n",
    "        image_paths = paths['images'].iloc[j]\n",
    "        \n",
    "    else:\n",
    "        image_paths = paths['images'].iloc[j][:bad_images[0]]\n",
    "        \n",
    "    print(len(image_paths))\n",
    "    \n",
    "    # ----- initialisations --------------------------------------------------\n",
    "    dimY=100*binning_scale\n",
    "    dimX = 512*binning_scale\n",
    "    image_atoms = np.zeros((dimY,dimX))\n",
    "    image_beam = np.zeros((dimY,dimX))\n",
    "    image_bg = np.zeros((dimY,dimX))\n",
    "\n",
    "    # ---- average images ----------------------------------------------------\n",
    "    for i in range(len(image_paths)):\n",
    "        fits_image = fits.open(image_paths[i])\n",
    "        image_atoms = image_atoms + fits_image[0].data[atoms]\n",
    "        image_beam = image_beam + fits_image[0].data[beam]\n",
    "        image_bg = image_bg + fits_image[0].data[bg]\n",
    "        \n",
    "    image_atoms = image_atoms /len(image_paths)\n",
    "    image_beam = image_beam /len(image_paths)\n",
    "    image_bg = image_bg / len(image_paths)\n",
    "    \n",
    "    hdu1 = fits.PrimaryHDU(([image_atoms,image_beam,image_bg]))\n",
    "    hdul = fits.HDUList([hdu1])\n",
    "    counter = str(j)\n",
    "    counter = counter.zfill(2)\n",
    "    filename = date +'_'+ counter\n",
    "    hdul.writeto(savefolder+filename+'.fts')\n",
    "    \n",
    "    variableList.append((j,image_paths.name))\n",
    "    \n",
    "np.savetxt(savefolder +'/'+ date +'_variables.dat',variableList, fmt='%5.6f',delimiter=' ', newline=os.linesep)"
   ]
  },
  {
   "cell_type": "markdown",
   "metadata": {
    "nbpresent": {
     "id": "4c05bec3-cae7-498a-816c-c7bf6c7b2cc1"
    }
   },
   "source": [
    "# # create mean and standard deviation "
   ]
  },
  {
   "cell_type": "code",
   "execution_count": null,
   "metadata": {},
   "outputs": [],
   "source": [
    "# --------------------------------------------------------------------------\n",
    "# ----- MAKE CHANGES HERE --------------------------------------------------\n",
    "# --------------------------------------------------------------------------\n",
    "date = '2019-07-17' # date of measurement\n",
    "atoms =  1  # number of image in fits file\n",
    "beam = 3\n",
    "bg = 5\n",
    "# --------------------------------------------------------------------------\n",
    "# --------------------------------------------------------------------------\n",
    "\n",
    "\n",
    "\n",
    "# ----- initialisations --------------------------------------------------\n",
    "\n",
    "iterator = tqdm_notebook(range(len(paths['images'])),desc='calculating...', leave=False) #len(paths['images'])\n",
    "variableList = []\n",
    "\n",
    "\n",
    "# ---- calculate averaged images ---------------------------------------------\n",
    "\n",
    "for j in iterator:\n",
    "    \n",
    "    # ---- remove non excisting images, when a run was not completed ---------\n",
    "    bad_images = []\n",
    "    for w in range(len(paths['images'].iloc[j])):\n",
    "        if paths['images'].iloc[j][w][100:] == 'None':\n",
    "            bad_images.append(w)\n",
    "\n",
    "    if len(bad_images)==0:\n",
    "        print(paths['images'].iloc[j])\n",
    "        image_paths = paths['images'].iloc[j]\n",
    "    else:\n",
    "        image_paths = paths['images'].iloc[j][:bad_images[0]]\n",
    "        \n",
    "    \n",
    "    # ----- initialisations --------------------------------------------------\n",
    "    dimY=100*binning_scale\n",
    "    dimX = 512*binning_scale\n",
    "    L = len(image_paths)\n",
    "    image_atoms_matrix = np.zeros((L,dimY,dimX))\n",
    "    image_beam_matrix = np.zeros((L,dimY,dimX))\n",
    "    image_bg_matrix = np.zeros((L,dimY,dimX))\n",
    "\n",
    "    # ---- calculated averaged and std images --------------------------------------\n",
    "    for i in range(len(image_paths)):\n",
    "        fits_image = fits.open(image_paths[i])\n",
    "        image_atoms_matrix[i] = fits_image[0].data[1]\n",
    "        image_beam_matrix[i] = fits_image[0].data[2]\n",
    "        image_bg_matrix[i] = fits_image[0].data[3]\n",
    "    \n",
    "    image_atoms_mean = np.mean(image_atoms_matrix,axis=0)\n",
    "    image_atoms_std = np.std(image_atoms_matrix,axis=0)\n",
    "    image_beam_mean = np.mean(image_beam_matrix,axis=0)\n",
    "    image_beam_std = np.std(image_beam_matrix,axis=0)\n",
    "    image_bg_mean = np.mean(image_bg_matrix,axis=0)\n",
    "    image_bg_std = np.std(image_bg_matrix,axis=0)\n",
    "    \n",
    "    # filename\n",
    "    counter = str(j)\n",
    "    counter = counter.zfill(3)\n",
    "    filename = date +'_'+ counter\n",
    "    \n",
    "    # save mean images\n",
    "    hdu1_mean = fits.PrimaryHDU(([image_atoms_mean,image_beam_mean,image_bg_mean]))\n",
    "    hdul_mean = fits.HDUList([hdu1_mean])\n",
    "    directory_mean = savefolder +  'mean'\n",
    "    if not os.path.exists(directory_mean):\n",
    "        os.makedirs(directory_mean)\n",
    "    \n",
    "    hdul_mean.writeto(directory_mean +'/'+ filename+'.fts')\n",
    "    \n",
    "    \n",
    "    # save std images\n",
    "    hdu1_std = fits.PrimaryHDU(([image_atoms_std,image_beam_std,image_bg_std]))\n",
    "    hdul_std = fits.HDUList([hdu1_std])\n",
    "    directory_std = savefolder +  'std'\n",
    "    if not os.path.exists(directory_std):\n",
    "        os.makedirs(directory_std)\n",
    "    \n",
    "    hdul_std.writeto(directory_std +'/'+ filename+'.fts')\n",
    "    \n",
    "    # append variable to variableList\n",
    "    variableList.append((j,image_paths.name))\n",
    "    \n",
    "# save variables in both folders\n",
    "np.savetxt(directory_mean +'/'+ date +'_variables.dat',variableList, fmt='%5.3f',delimiter=' ', newline=os.linesep)\n",
    "np.savetxt(directory_std +'/'+ date +'_variables.dat',variableList, fmt='%5.3f',delimiter=' ', newline=os.linesep)"
   ]
  },
  {
   "cell_type": "markdown",
   "metadata": {
    "nbpresent": {
     "id": "3f3184e7-4d1a-4479-a11d-3f8a564177a3"
    }
   },
   "source": [
    "# # check laser lock"
   ]
  },
  {
   "cell_type": "code",
   "execution_count": null,
   "metadata": {
    "nbpresent": {
     "id": "5f168c04-3eb0-476a-92f1-9d7edb1d48cd"
    }
   },
   "outputs": [],
   "source": [
    "# --------------------------------------------------------------------------\n",
    "# ----- MAKE CHANGES HERE --------------------------------------------------\n",
    "# --------------------------------------------------------------------------\n",
    "\n",
    "atoms =  2  # number of image in fits file\n",
    "beam = 4\n",
    "bg = 6\n",
    "j = 1 # number of variable with which you can test the look (e.g. know that you should see good EIT there) \n",
    "# --------------------------------------------------------------------------\n",
    "# --------------------------------------------------------------------------\n",
    "\n",
    "print(paths['images'].iloc[j].name)\n",
    "\n",
    "# ---- remove non existing images, when a run was not completed ---------\n",
    "bad_images = []\n",
    "for w in range(len(paths['images'].iloc[j])):\n",
    "    if paths['images'].iloc[j][w][107:] == 'None':\n",
    "        bad_images.append(w)\n",
    "\n",
    "if len(bad_images)==0:\n",
    "    image_paths = paths['images'].iloc[j]\n",
    "else:\n",
    "    image_paths = paths['images'].iloc[j][:bad_images[0]]\n",
    "\n",
    "print(len(image_paths))\n",
    "\n",
    "# ----- initialisations --------------------------------------------------\n",
    "dimY=100\n",
    "dimX = 512\n",
    "image_atoms = np.zeros((dimY,dimX))\n",
    "image_beam = np.zeros((dimY,dimX))\n",
    "image_bg = np.zeros((dimY,dimX))\n",
    "\n",
    "minX = 50\n",
    "maxX = 400\n",
    "minY = 10\n",
    "maxY = 90\n",
    "\n",
    "# ---- average images ----------------------------------------------------\n",
    "for i in range(len(image_paths)): #\n",
    "    fits_image = fits.open(image_paths[i])\n",
    "    image_atoms = fits_image[0].data[atoms][minY:maxY,minX:maxX]\n",
    "    image_beam = fits_image[0].data[beam][minY:maxY,minX:maxX]\n",
    "    image_bg = fits_image[0].data[bg][minY:maxY,minX:maxX]\n",
    "    transmission = (image_atoms - image_bg)/(image_beam - image_bg)\n",
    "    transmission[transmission > 10] = 1\n",
    "    plt.figure()\n",
    "    plt.imshow(transmission)\n",
    "    plt.title(i)\n",
    "#    fits_image = fits.open(image_paths[i])\n",
    "#    image_atoms = image_atoms + fits_image[0].data[atoms]\n",
    "#    image_beam = image_beam + fits_image[0].data[beam]\n",
    "#    image_bg = image_bg + fits_image[0].data[bg]\n",
    "\n",
    "\n"
   ]
  },
  {
   "cell_type": "markdown",
   "metadata": {
    "nbpresent": {
     "id": "fbcd1bc2-39ee-4a84-ac23-3edc593d7143"
    }
   },
   "source": [
    "# # create averaged images from all data"
   ]
  },
  {
   "cell_type": "markdown",
   "metadata": {
    "nbpresent": {
     "id": "4c05bec3-cae7-498a-816c-c7bf6c7b2cc1"
    }
   },
   "source": [
    "# # create mean and standard deviation "
   ]
  },
  {
   "cell_type": "markdown",
   "metadata": {
    "nbpresent": {
     "id": "3a273c05-eff9-4b2f-bc7e-3db66751d400"
    }
   },
   "source": [
    "# # create subsets for error estimation"
   ]
  },
  {
   "cell_type": "code",
   "execution_count": null,
   "metadata": {
    "nbpresent": {
     "id": "bdc979cc-8d75-4717-a038-8659e181c891"
    }
   },
   "outputs": [],
   "source": [
    "\n",
    "# ---- initialisations --------------------------------------------------\n",
    "date = '2018-05-09' # date of measurement\n",
    "part = 3/4          # percentage of images taken for each subset\n",
    "numSub = 5          # number of subsets\n",
    "\n",
    "# ---- secify folder for subsets of averaged images ---------------------\n",
    "savefolderSUB = 'A:/Projekte - Projects/2017_Light_Propagation/2018-05-09_scan_dDDSred_trans_large_averaged_images_subsets/'\n",
    "\n",
    "\n",
    "for k in range(numSub):\n",
    "    iterator = tqdm_notebook(range(len(paths['images'])), desc='calculating...', leave=False)\n",
    "    variableList = []\n",
    "    \n",
    "    # generate random numbers\n",
    "    numAverages = len(paths['images'].iloc[0])\n",
    "    lenRand = int(numAverages*part)\n",
    "    randNum = random.sample(range(numAverages), lenRand)\n",
    "    print(randNum)\n",
    "\n",
    "    for j in iterator:\n",
    "        image_paths = paths['images'].iloc[j]\n",
    "        # ----- initialisations --------------------------------------------------\n",
    "        dimY=100\n",
    "        dimX = 512\n",
    "        image_atoms = np.zeros((dimY,dimX))\n",
    "        image_beam = np.zeros((dimY,dimX))\n",
    "        image_bg = np.zeros((dimY,dimX))\n",
    "\n",
    "        # ---- average images ----------------------------------------------------\n",
    "        for i in range(len(randNum)):\n",
    "            number = randNum[i]\n",
    "            fits_image = fits.open(image_paths[number])\n",
    "            image_atoms = image_atoms + fits_image[0].data[1]\n",
    "            image_beam = image_beam + fits_image[0].data[2]\n",
    "            image_bg = image_bg + fits_image[0].data[3]\n",
    "\n",
    "        image_atoms = image_atoms /len(randNum)\n",
    "        image_beam = image_beam /len(randNum)\n",
    "        image_bg = image_bg / len(randNum)\n",
    "        \n",
    "        # ---- save to folder ----------------------------------------------------\n",
    "        # write into HDUList\n",
    "        hdu1 = fits.PrimaryHDU(([image_atoms,image_beam,image_bg]))\n",
    "        hdul = fits.HDUList([hdu1])\n",
    "        \n",
    "        # create foldername and create the folder if it does not excists\n",
    "        counterSubset = str(k)\n",
    "        counterSubset = counterSubset.zfill(2)\n",
    "        directory = savefolderSUB +  counterSubset\n",
    "        if not os.path.exists(directory):\n",
    "            os.makedirs(directory)\n",
    "            \n",
    "        # crate filename\n",
    "        counter = str(j)\n",
    "        counter = counter.zfill(2)\n",
    "        filename = date +'_'+ counter\n",
    "        hdul.writeto(directory +'/'+ filename+'.fts')\n",
    "\n",
    "        variableList.append((j,image_paths.name))\n",
    "    \n",
    "    # save variables for the subset\n",
    "    np.savetxt(directory +'/'+ date +'_variables.dat',variableList, fmt='%5.3f',delimiter=' ', newline=os.linesep)"
   ]
  },
  {
   "cell_type": "markdown",
   "metadata": {
    "nbpresent": {
     "id": "ff400163-a42d-4f30-9d2b-df97369127ac"
    }
   },
   "source": [
    "# create averaged images from a single folder"
   ]
  },
  {
   "cell_type": "code",
   "execution_count": null,
   "metadata": {
    "nbpresent": {
     "id": "d78b6bd1-b629-4c34-846b-2f4964b46ced"
    }
   },
   "outputs": [],
   "source": [
    "import os\n",
    "# --------------------------------------------------------------------------\n",
    "# ----- MAKE CHANGES HERE --------------------------------------------------\n",
    "# --------------------------------------------------------------------------\n",
    "path = 'Z:/rydberg/Projekte - Projects/2017_Light_Propagation/2018/October/22/'\n",
    "infolder = 'intensity_andor_image'\n",
    "date = '2018-10-22' # date of measurement\n",
    "number = 0\n",
    "atoms =  1  # number of image in fits file\n",
    "beam = 3\n",
    "bg = 5\n",
    "# --------------------------------------------------------------------------\n",
    "# --------------------------------------------------------------------------\n",
    "\n",
    "\n",
    "folder  = infolder + '/FITS Files/'\n",
    "folder=path+folder\n",
    "filenames= os.listdir(folder)\n",
    "filenames=filenames[1:]\n",
    "\n",
    "\n",
    "# ---- initialisations --------------------------------------------------\n",
    "\n",
    "os.mkdir(path+infolder+'_averaged_images')\n",
    "savefolder = path+infolder+'_averaged_images/'\n",
    "iterator = tqdm_notebook(range(len(filenames)),desc='calculating...', leave=False) \n",
    "variableList = []\n",
    "\n",
    "\n",
    "# ---- calculate averaged images ---------------------------------------------\n",
    "    \n",
    "# ----- initialisations --------------------------------------------------\n",
    "dimY=100\n",
    "dimX = 512\n",
    "image_atoms = np.zeros((dimY,dimX))\n",
    "image_beam = np.zeros((dimY,dimX))\n",
    "image_bg = np.zeros((dimY,dimX))\n",
    "\n",
    "# ---- average images ----------------------------------------------------\n",
    "for i in iterator:\n",
    "    fits_image = fits.open(folder+filenames[i])\n",
    "    image_atoms = image_atoms + fits_image[0].data[atoms]\n",
    "    image_beam = image_beam + fits_image[0].data[beam]\n",
    "    image_bg = image_bg + fits_image[0].data[bg]\n",
    "\n",
    "image_atoms = image_atoms /len(filenames)\n",
    "image_beam = image_beam /len(filenames)\n",
    "image_bg = image_bg / len(filenames)\n",
    "\n",
    "# ---- save averaged image ----------------------------------------------------\n",
    "hdu1 = fits.PrimaryHDU(([image_atoms,image_beam,image_bg]))\n",
    "hdul = fits.HDUList([hdu1])\n",
    "counter = str(1)\n",
    "counter = counter.zfill(2)\n",
    "filename = date +'_'+ str(number)#counter\n",
    "hdul.writeto(savefolder+filename+'.fts')"
   ]
  },
  {
   "cell_type": "markdown",
   "metadata": {
    "nbpresent": {
     "id": "313db07a-acae-45ab-bcc1-796267ddd738"
    }
   },
   "source": [
    "# create averaged images from a single folders into one folder with variable file"
   ]
  },
  {
   "cell_type": "code",
   "execution_count": null,
   "metadata": {
    "nbpresent": {
     "id": "3f3b1a53-5998-41ad-8b3d-5b3f5caa9b1c"
    }
   },
   "outputs": [],
   "source": [
    "import os\n",
    "\n",
    "# --------------------------------------------------------------------------\n",
    "# ----- MAKE CHANGES HERE --------------------------------------------------\n",
    "# --------------------------------------------------------------------------\n",
    "path = 'Z:/rydberg/Projekte - Projects/2017_Light_Propagation/2018/October/05/'\n",
    "date = '2018-10-05' # date of measurement\n",
    "folderBase ='lens_pos_5mW'\n",
    "numberString = 4 # number of last digits from the filename, that you want to use as a variable\n",
    "atoms =  1  # number of image in fits file\n",
    "beam = 3\n",
    "bg = 5\n",
    "# --------------------------------------------------------------------------\n",
    "# --------------------------------------------------------------------------\n",
    "\n",
    "\n",
    "# --------------------------------------------------------------------------\n",
    "# ----- Main part ----------------------------------------------------------\n",
    "# --------------------------------------------------------------------------\n",
    "\n",
    "\n",
    "# ----- initialisations --------------------------------------------------\n",
    "number=0\n",
    "os.mkdir(path+folderBase+'_Averaged_images')\n",
    "savefolder = path+folderBase+'_Averaged_images/'\n",
    "variableList = []\n",
    "allFolders = os.listdir(path)\n",
    "correctFolders = []\n",
    "\n",
    "# ----- select good folders --------------------------------------------------\n",
    "for i in range(len(allFolders)):\n",
    "    currentFolder = allFolders[i]\n",
    "    if currentFolder[0:len(folderBase)] == folderBase:\n",
    "        correctFolders.append(currentFolder)\n",
    "\n",
    "\n",
    "# ---- calculate averaged images ---------------------------------------------\n",
    "for j in range(len(correctFolders)-1):\n",
    "    \n",
    "# ----- initialisations --------------------------------------------------\n",
    "    infolder = correctFolders[j]\n",
    "    folder  = infolder + '/FITS Files/'\n",
    "    folder = path + folder\n",
    "\n",
    "    filenames= os.listdir(folder)\n",
    "    filenames=filenames[1:]\n",
    "    number = number+1\n",
    "    counter = str(number)\n",
    "    counter = counter.zfill(2)\n",
    "    \n",
    "\n",
    "    iterator = tqdm_notebook(range(len(filenames)),desc='calculating...', leave=False) \n",
    "\n",
    "    \n",
    "# ----- initialisations for averaging --------------------------------------------------   \n",
    "    dimY=100\n",
    "    dimX = 512\n",
    "    image_atoms = np.zeros((dimY,dimX))\n",
    "    image_beam = np.zeros((dimY,dimX))\n",
    "    image_bg = np.zeros((dimY,dimX))\n",
    "\n",
    "# ---- average images ----------------------------------------------------\n",
    "    for i in iterator:\n",
    "        fits_image = fits.open(folder+filenames[i])\n",
    "        image_atoms = image_atoms + fits_image[0].data[atoms]\n",
    "        image_beam = image_beam + fits_image[0].data[beam]\n",
    "        image_bg = image_bg + fits_image[0].data[bg]\n",
    "\n",
    "    image_atoms = image_atoms /len(filenames)\n",
    "    image_beam = image_beam /len(filenames)\n",
    "    image_bg = image_bg / len(filenames)\n",
    "\n",
    "# ---- save averaged image ----------------------------------------------------\n",
    "    hdu1 = fits.PrimaryHDU(([image_atoms,image_beam,image_bg]))\n",
    "    hdul = fits.HDUList([hdu1])\n",
    "    \n",
    "    filename = date +'_'+ counter\n",
    "    hdul.writeto(savefolder+filename+'.fts')\n",
    "    \n",
    "    variableList.append((float(number),float(infolder[-numberString::])))\n",
    "    \n",
    "    \n",
    "np.savetxt(savefolder +'/'+ date +'_variables.dat',variableList, fmt='%5.3f',delimiter=' ', newline=os.linesep)"
   ]
  }
 ],
 "metadata": {
  "anaconda-cloud": {},
  "kernelspec": {
   "display_name": "Python 3",
   "language": "python",
   "name": "python3"
  },
  "language_info": {
   "codemirror_mode": {
    "name": "ipython",
    "version": 3
   },
   "file_extension": ".py",
   "mimetype": "text/x-python",
   "name": "python",
   "nbconvert_exporter": "python",
   "pygments_lexer": "ipython3",
   "version": "3.5.6"
  },
  "nbpresent": {
   "slides": {},
   "themes": {
    "default": "d2b31265-10ae-4021-a253-b6ffd1bd483e",
    "theme": {
     "5047a0f5-f3b7-417d-b918-66081b362e36": {
      "backgrounds": {
       "backgroundColor": {
        "background-color": "backgroundColor",
        "id": "backgroundColor"
       }
      },
      "id": "5047a0f5-f3b7-417d-b918-66081b362e36",
      "palette": {
       "backgroundColor": {
        "id": "backgroundColor",
        "rgb": [
         43,
         43,
         43
        ]
       },
       "headingColor": {
        "id": "headingColor",
        "rgb": [
         238,
         238,
         238
        ]
       },
       "linkColor": {
        "id": "linkColor",
        "rgb": [
         19,
         218,
         236
        ]
       },
       "mainColor": {
        "id": "mainColor",
        "rgb": [
         238,
         238,
         238
        ]
       }
      },
      "rules": {
       "a": {
        "color": "linkColor"
       },
       "h1": {
        "color": "headingColor",
        "font-family": "Oswald",
        "font-size": 7
       },
       "h2": {
        "color": "headingColor",
        "font-family": "Oswald",
        "font-size": 5
       },
       "h3": {
        "color": "headingColor",
        "font-family": "Oswald",
        "font-size": 3.75
       },
       "h4": {
        "color": "headingColor",
        "font-family": "Oswald",
        "font-size": 3
       },
       "h5": {
        "color": "headingColor",
        "font-family": "Oswald"
       },
       "h6": {
        "color": "headingColor",
        "font-family": "Oswald"
       },
       "h7": {
        "color": "headingColor",
        "font-family": "Oswald"
       },
       "li": {
        "color": "mainColor",
        "font-family": "Lato",
        "font-size": 5
       },
       "p": {
        "color": "mainColor",
        "font-family": "Lato",
        "font-size": 5
       }
      },
      "text-base": {
       "color": "mainColor",
       "font-family": "Lato",
       "font-size": 5
      }
     },
     "8d924c71-cfd0-4644-9993-dba5eaaa0b22": {
      "backgrounds": {
       "dc7afa04-bf90-40b1-82a5-726e3cff5267": {
        "background-color": "31af15d2-7e15-44c5-ab5e-e04b16a89eff",
        "id": "dc7afa04-bf90-40b1-82a5-726e3cff5267"
       }
      },
      "id": "8d924c71-cfd0-4644-9993-dba5eaaa0b22",
      "palette": {
       "19cc588f-0593-49c9-9f4b-e4d7cc113b1c": {
        "id": "19cc588f-0593-49c9-9f4b-e4d7cc113b1c",
        "rgb": [
         252,
         252,
         252
        ]
       },
       "31af15d2-7e15-44c5-ab5e-e04b16a89eff": {
        "id": "31af15d2-7e15-44c5-ab5e-e04b16a89eff",
        "rgb": [
         68,
         68,
         68
        ]
       },
       "50f92c45-a630-455b-aec3-788680ec7410": {
        "id": "50f92c45-a630-455b-aec3-788680ec7410",
        "rgb": [
         197,
         226,
         245
        ]
       },
       "c5cc3653-2ee1-402a-aba2-7caae1da4f6c": {
        "id": "c5cc3653-2ee1-402a-aba2-7caae1da4f6c",
        "rgb": [
         43,
         126,
         184
        ]
       },
       "efa7f048-9acb-414c-8b04-a26811511a21": {
        "id": "efa7f048-9acb-414c-8b04-a26811511a21",
        "rgb": [
         25.118061674008803,
         73.60176211453744,
         107.4819383259912
        ]
       }
      },
      "rules": {
       "a": {
        "color": "19cc588f-0593-49c9-9f4b-e4d7cc113b1c"
       },
       "blockquote": {
        "color": "50f92c45-a630-455b-aec3-788680ec7410",
        "font-size": 3
       },
       "code": {
        "font-family": "Anonymous Pro"
       },
       "h1": {
        "color": "19cc588f-0593-49c9-9f4b-e4d7cc113b1c",
        "font-family": "Merriweather",
        "font-size": 8
       },
       "h2": {
        "color": "19cc588f-0593-49c9-9f4b-e4d7cc113b1c",
        "font-family": "Merriweather",
        "font-size": 6
       },
       "h3": {
        "color": "50f92c45-a630-455b-aec3-788680ec7410",
        "font-family": "Lato",
        "font-size": 5.5
       },
       "h4": {
        "color": "c5cc3653-2ee1-402a-aba2-7caae1da4f6c",
        "font-family": "Lato",
        "font-size": 5
       },
       "h5": {
        "font-family": "Lato"
       },
       "h6": {
        "font-family": "Lato"
       },
       "h7": {
        "font-family": "Lato"
       },
       "li": {
        "color": "50f92c45-a630-455b-aec3-788680ec7410",
        "font-size": 3.25
       },
       "pre": {
        "font-family": "Anonymous Pro",
        "font-size": 4
       }
      },
      "text-base": {
       "color": "19cc588f-0593-49c9-9f4b-e4d7cc113b1c",
       "font-family": "Lato",
       "font-size": 4
      }
     },
     "d2b31265-10ae-4021-a253-b6ffd1bd483e": {
      "id": "d2b31265-10ae-4021-a253-b6ffd1bd483e",
      "palette": {
       "19cc588f-0593-49c9-9f4b-e4d7cc113b1c": {
        "id": "19cc588f-0593-49c9-9f4b-e4d7cc113b1c",
        "rgb": [
         252,
         252,
         252
        ]
       },
       "31af15d2-7e15-44c5-ab5e-e04b16a89eff": {
        "id": "31af15d2-7e15-44c5-ab5e-e04b16a89eff",
        "rgb": [
         68,
         68,
         68
        ]
       },
       "50f92c45-a630-455b-aec3-788680ec7410": {
        "id": "50f92c45-a630-455b-aec3-788680ec7410",
        "rgb": [
         155,
         177,
         192
        ]
       },
       "c5cc3653-2ee1-402a-aba2-7caae1da4f6c": {
        "id": "c5cc3653-2ee1-402a-aba2-7caae1da4f6c",
        "rgb": [
         43,
         126,
         184
        ]
       },
       "efa7f048-9acb-414c-8b04-a26811511a21": {
        "id": "efa7f048-9acb-414c-8b04-a26811511a21",
        "rgb": [
         25.118061674008803,
         73.60176211453744,
         107.4819383259912
        ]
       }
      },
      "rules": {
       "blockquote": {
        "color": "50f92c45-a630-455b-aec3-788680ec7410"
       },
       "code": {
        "font-family": "Anonymous Pro"
       },
       "h1": {
        "color": "c5cc3653-2ee1-402a-aba2-7caae1da4f6c",
        "font-family": "Lato",
        "font-size": 8
       },
       "h2": {
        "color": "c5cc3653-2ee1-402a-aba2-7caae1da4f6c",
        "font-family": "Lato",
        "font-size": 6
       },
       "h3": {
        "color": "50f92c45-a630-455b-aec3-788680ec7410",
        "font-family": "Lato",
        "font-size": 5.5
       },
       "h4": {
        "color": "c5cc3653-2ee1-402a-aba2-7caae1da4f6c",
        "font-family": "Lato",
        "font-size": 5
       },
       "h5": {
        "font-family": "Lato"
       },
       "h6": {
        "font-family": "Lato"
       },
       "h7": {
        "font-family": "Lato"
       },
       "pre": {
        "font-family": "Anonymous Pro",
        "font-size": 4
       }
      },
      "text-base": {
       "font-family": "Merriweather",
       "font-size": 4
      }
     }
    }
   }
  }
 },
 "nbformat": 4,
 "nbformat_minor": 2
}
