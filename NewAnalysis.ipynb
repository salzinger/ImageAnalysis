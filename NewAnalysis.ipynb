{
 "cells": [
  {
   "cell_type": "code",
   "execution_count": 1,
   "metadata": {},
   "outputs": [],
   "source": [
    "import sys\n",
    "sys.path.insert(0, '/home/qd/PycharmProjects/rydanalysis/')\n",
    "from rydanalysis import *\n",
    "import matplotlib.pyplot as plt\n",
    "path='/home/qd/Schreibtisch/Data/2020_IEI/June/12/dDDSBluePro38S'\n",
    "#path='/run/user/1000/gvfs/smb-share:server=axion.local,share=rydberg/data/2020_02_12/EIT_resonancescan'\n",
    "import seaborn as sns\n",
    "sns.set_style(\"dark\")\n",
    "sns.set_style(\"darkgrid\")\n",
    "import matplotlib as mpl"
   ]
  },
  {
   "cell_type": "code",
   "execution_count": 2,
   "metadata": {},
   "outputs": [
    {
     "data": {
      "application/vnd.jupyter.widget-view+json": {
       "model_id": "258e7ac10789406596afc5e075da7026",
       "version_major": 2,
       "version_minor": 0
      },
      "text/plain": [
       "HBox(children=(FloatProgress(value=0.0, description='find parameters and variables', max=420.0, style=Progress…"
      ]
     },
     "metadata": {},
     "output_type": "display_data"
    },
    {
     "name": "stdout",
     "output_type": "stream",
     "text": [
      "\r"
     ]
    }
   ],
   "source": [
    "seq = rydanalysis.OldStructure(path)\n",
    "#seq.path='/home/qd/Schreibtisch/data/'"
   ]
  },
  {
   "cell_type": "code",
   "execution_count": 3,
   "metadata": {},
   "outputs": [
    {
     "data": {
      "application/vnd.jupyter.widget-view+json": {
       "model_id": "e0d9fc5cec044ff7b6b5e9b2b0204f93",
       "version_major": 2,
       "version_minor": 0
      },
      "text/plain": [
       "HBox(children=(FloatProgress(value=0.0, description='load images', max=420.0, style=ProgressStyle(description_…"
      ]
     },
     "metadata": {},
     "output_type": "display_data"
    },
    {
     "name": "stdout",
     "output_type": "stream",
     "text": [
      "\r"
     ]
    },
    {
     "data": {
      "application/vnd.jupyter.widget-view+json": {
       "model_id": "a48796ed4b08408284c7f00a0314afe7",
       "version_major": 2,
       "version_minor": 0
      },
      "text/plain": [
       "HBox(children=(FloatProgress(value=0.0, description='load scope traces', max=420.0, style=ProgressStyle(descri…"
      ]
     },
     "metadata": {},
     "output_type": "display_data"
    },
    {
     "name": "stdout",
     "output_type": "stream",
     "text": [
      "\r"
     ]
    }
   ],
   "source": [
    "seq.save_raw_data()"
   ]
  },
  {
   "cell_type": "code",
   "execution_count": 6,
   "metadata": {},
   "outputs": [
    {
     "name": "stdout",
     "output_type": "stream",
     "text": [
      "<xarray.Dataset>\n",
      "Dimensions:       (dDDSbluePro: 21, time: 100002, x: 100, y: 512)\n",
      "Coordinates:\n",
      "  * time          (time) float64 0.0 2e-10 4e-10 6e-10 ... 2e-05 2e-05 2e-05\n",
      "  * y             (y) float64 -1.094e+03 -1.089e+03 ... 1.089e+03 1.094e+03\n",
      "  * x             (x) float64 -211.9 -207.6 -203.3 -199.0 ... 203.3 207.6 211.9\n",
      "  * dDDSbluePro   (dDDSbluePro) float64 -0.4 -0.385 -0.37 ... -0.13 -0.115 -0.1\n",
      "Data variables:\n",
      "    image_00      (dDDSbluePro, x, y) float32 202.8 203.6 ... 203.65 203.95\n",
      "    image_01      (dDDSbluePro, x, y) float32 205.5 203.7 204.4 ... 203.3 204.75\n",
      "    image_02      (dDDSbluePro, x, y) float32 209.2 214.75 ... 204.9 204.2\n",
      "    image_03      (dDDSbluePro, x, y) float32 203.4 204.0 205.9 ... 205.0 203.9\n",
      "    image_04      (dDDSbluePro, x, y) float32 209.9 216.05 ... 199.7 202.7\n",
      "    image_05      (dDDSbluePro, x, y) float32 201.7 202.35 ... 203.5 202.35\n",
      "    scope_traces  (dDDSbluePro, time) float32 0.0028206245 ... 0.0010904005\n"
     ]
    },
    {
     "ename": "TypeError",
     "evalue": "'EITMask' object is not callable",
     "output_type": "error",
     "traceback": [
      "\u001b[0;31m---------------------------------------------------------------------------\u001b[0m",
      "\u001b[0;31mTypeError\u001b[0m                                 Traceback (most recent call last)",
      "\u001b[0;32m<ipython-input-6-ca106350a551>\u001b[0m in \u001b[0;36m<module>\u001b[0;34m\u001b[0m\n\u001b[1;32m      5\u001b[0m \u001b[0;31m#mask = (abs(images.x)) * (abs(images.y))\u001b[0m\u001b[0;34m\u001b[0m\u001b[0;34m\u001b[0m\u001b[0;34m\u001b[0m\u001b[0m\n\u001b[1;32m      6\u001b[0m \u001b[0;31m#image = images.image_01.sel(dDDSred=0, method='nearest').where(mask)/images.image_03.sel(dDDSred=0, method='nearest').where(mask)#-images.image_05.sel(dDDSred=0, method='nearest').where(mask)\u001b[0m\u001b[0;34m\u001b[0m\u001b[0;34m\u001b[0m\u001b[0;34m\u001b[0m\u001b[0m\n\u001b[0;32m----> 7\u001b[0;31m \u001b[0mmaske\u001b[0m\u001b[0;34m=\u001b[0m\u001b[0mimages\u001b[0m\u001b[0;34m.\u001b[0m\u001b[0meit_mask\u001b[0m\u001b[0;34m(\u001b[0m\u001b[0mcenter_x\u001b[0m\u001b[0;34m=\u001b[0m\u001b[0;36m5\u001b[0m\u001b[0;34m,\u001b[0m\u001b[0mcenter_y\u001b[0m\u001b[0;34m=\u001b[0m\u001b[0;34m-\u001b[0m\u001b[0;36m185\u001b[0m\u001b[0;34m,\u001b[0m\u001b[0mwidth_x\u001b[0m\u001b[0;34m=\u001b[0m\u001b[0;36m180\u001b[0m\u001b[0;34m,\u001b[0m\u001b[0mwidth_y\u001b[0m\u001b[0;34m=\u001b[0m\u001b[0;36m700\u001b[0m\u001b[0;34m,\u001b[0m\u001b[0mwidth_eit\u001b[0m\u001b[0;34m=\u001b[0m\u001b[0;36m80\u001b[0m\u001b[0;34m)\u001b[0m\u001b[0;34m\u001b[0m\u001b[0;34m\u001b[0m\u001b[0m\n\u001b[0m\u001b[1;32m      8\u001b[0m \u001b[0;34m\u001b[0m\u001b[0m\n\u001b[1;32m      9\u001b[0m \u001b[0mabsorptionpic\u001b[0m\u001b[0;34m=\u001b[0m\u001b[0mAbsorptionImaging\u001b[0m\u001b[0;34m.\u001b[0m\u001b[0mfrom_raw_data\u001b[0m\u001b[0;34m(\u001b[0m\u001b[0mseq\u001b[0m\u001b[0;34m.\u001b[0m\u001b[0mraw_data\u001b[0m\u001b[0;34m,\u001b[0m\u001b[0mmask\u001b[0m\u001b[0;34m=\u001b[0m\u001b[0mmaske\u001b[0m\u001b[0;34m)\u001b[0m\u001b[0;34m\u001b[0m\u001b[0;34m\u001b[0m\u001b[0m\n",
      "\u001b[0;31mTypeError\u001b[0m: 'EITMask' object is not callable"
     ]
    }
   ],
   "source": [
    "images = seq.raw_data.groupby('dDDSbluePro').mean()\n",
    "\n",
    "print(images)\n",
    "\n",
    "#mask = (abs(images.x)) * (abs(images.y))\n",
    "#image = images.image_01.sel(dDDSred=0, method='nearest').where(mask)/images.image_03.sel(dDDSred=0, method='nearest').where(mask)#-images.image_05.sel(dDDSred=0, method='nearest').where(mask)\n",
    "maske=images.eit_mask(center_x=5,center_y=-185,width_x=180,width_y=700,width_eit=80)\n",
    "\n",
    "absorptionpic=AbsorptionImaging.from_raw_data(seq.raw_data,mask=maske)\n",
    "\n",
    "fringepic=AbsorptionImaging.from_raw_data(seq.raw_data,mask=(abs(images.x)) * (abs(images.y)))\n",
    "#print(absorptionpic.calculate_density(images.image_01.sel(dDDSred=0, method='nearest')))\n",
    "\n",
    "'''image1=absorptionpic.calculate_transmission(images.image_01.sel(dDDSred=0, method='nearest'))[10:90,60:350]#[10:90]\n",
    "image2=absorptionpic.calculate_transmission(images.image_01.sel(dDDSred=1.5, method='nearest'))[10:90,60:350]#[10:90]\n",
    "\n",
    "fig,ax = plt.subplots(2,1,figsize=(10,10))\n",
    "ax[0].set_title('Image Number '+str(1))\n",
    "ax[0].imshow(image1, origin='bottom',vmin=0, vmax=1)\n",
    "fig.colorbar(ax[0].imshow(image1, origin='bottom',vmin=0, vmax=1),ax=ax[0])\n",
    "\n",
    "ax[1].set_title('Image Number '+str(2))\n",
    "ax[1].imshow(image2, origin='bottom',vmin=0, vmax=1)\n",
    "fig.colorbar(ax[1].imshow(image2, origin='bottom',vmin=0, vmax=1),ax=ax[1])\n",
    "ax[1].set_title('Fit')\n",
    "ax[1].imshow(out.best_fit.reshape(shape),origin='bottom',vmin=0, vmax=vmax)\n",
    "fig.colorbar(ax[1].imshow(out.best_fit.reshape(shape),origin='bottom',vmin=0, vmax=vmax),ax=ax[1])\n",
    " '''   #ax[2].set_title('Residual')\n",
    "    #ax[2].imshow((image-out.best_fit.reshape(shape))/out.best_fit.reshape(shape),origin='bottom',vmin=-1, vmax=1, cmap='coolwarm')\n",
    "    #ax[2].contour(out.best_fit.reshape(shape),colors='k')\n",
    "    #fig.colorbar(ax[2].imshow((image-out.best_fit.reshape(shape))/out.best_fit.reshape(shape),origin='bottom',vmin=-1, vmax=1, cmap='coolwarm') ,ax=ax[2])\n",
    "    #ax[3].set_title('Residual Zoom')\n",
    "    #ax[3].imshow((image[35:55,80:140]-out.best_fit.reshape(shape)[35:55,80:140])/out.best_fit.reshape(shape)[35:55,80:140],origin='bottom',vmin=-1, vmax=1, cmap='coolwarm')\n",
    "    #ax[3].contour(out.best_fit.reshape(shape)[35:55,80:140],colors='k')\n",
    "    #fig.colorbar(ax[3].imshow((image[35:55,80:140]-out.best_fit.reshape(shape)[35:55,80:140])/out.best_fit.reshape(shape)[35:55,80:140],origin='bottom',vmin=-1, vmax=1, cmap='coolwarm'), ax=ax[3])\n",
    "    #ax[4].set_title('Residual Filtered Zoom')\n",
    "    #ax[4].imshow(gaussian_filter((image[35:55,80:140]-out.best_fit.reshape(shape)[35:55,80:140])/out.best_fit.reshape(shape)[35:55,80:140],1),origin='bottom',vmin=-1, vmax=1, cmap='coolwarm')\n",
    "    #ax[4].contour(out.best_fit.reshape(shape)[35:55,80:140],colors='k')\n",
    "    #fig.colorbar(ax[4].imshow(gaussian_filter((image[35:55,80:140]-out.best_fit.reshape(shape)[35:55,80:140])/out.best_fit.reshape(shape)[35:55,80:140],1),origin='bottom',vmin=-0.5, vmax=0.5, cmap='coolwarm'), ax=ax[4])\n",
    "    #ax[5].set_title('Noise Map')\n",
    "    #ax[5].imshow(1/image_weights,origin='bottom',vmin=0.5, vmax=1.5, cmap='afmhot')\n",
    "    #fig.colorbar(ax[5].imshow(1/image_weights,origin='bottom',vmin=0.5, vmax=1.5, cmap='afmhot'), ax=ax[5])\n",
    "    \n",
    "    #Axes3D.imshow((image[30:50,110:130]-out.best_fit.reshape(shape)[30:50,110:130])/out.best_fit.reshape(shape)[30:50,110:130],origin='bottom',vmin=-1, vmax=1, cmap='coolwarm')\n",
    "    #Axes3D.scatter(ax3D,xs=np.linspace(0,19,20),ys=np.linspace(0,19,20),zs=(image[30:50,110:130]-out.best_fit.reshape(shape)[30:50,110:130])/out.best_fit.reshape(shape)[30:50,110:130],zdir='z')\n",
    "    #fig3D.colorbar(ax[3].imshow((image[30:50,110:130]-out.best_fit.reshape(shape)[30:50,110:130])/out.best_fit.reshape(shape)[30:50,110:130],origin='bottom',vmin=-1, vmax=1, cmap='coolwarm'), ax=ax[3])\n",
    "\n",
    "\n",
    "\n",
    "\n",
    "imag=absorptionpic.transmission\n",
    "imagfringe=fringepic.transmission\n",
    "\n",
    "print(center_of_mass(imag[13].where(maske)))\n",
    "\n",
    "\n",
    "fig,ax = plt.subplots(3,1,figsize=(25,10))\n",
    "ax[0].set_title('Image Number '+str(1))\n",
    "ax[0].imshow(imag[13].where(maske), origin='bottom',vmin=0, vmax=1)\n",
    "fig.colorbar(ax[0].imshow(imag[13].where(maske), origin='bottom',vmin=0, vmax=1),ax=ax[0])\n",
    "\n",
    "ax[1].set_title('Image Number '+str(2))\n",
    "ax[1].imshow(imagfringe[13], origin='bottom',vmin=0, vmax=1)\n",
    "fig.colorbar(ax[1].imshow(imagfringe[13], origin='bottom',vmin=0, vmax=1),ax=ax[1])\n",
    "\n",
    "ax[2].set_title('Image Number '+str(3))\n",
    "ax[2].imshow(imag[0]-imagfringe[0], origin='bottom',vmin=-0.5, vmax=0.5)\n",
    "fig.colorbar(ax[2].imshow(imag[0]-imagfringe[0], origin='bottom',vmin=-0.5, vmax=0.5,cmap='coolwarm'),ax=ax[2])\n",
    "\n",
    "plt.show()"
   ]
  },
  {
   "cell_type": "code",
   "execution_count": null,
   "metadata": {},
   "outputs": [],
   "source": []
  },
  {
   "cell_type": "code",
   "execution_count": null,
   "metadata": {},
   "outputs": [],
   "source": []
  },
  {
   "cell_type": "code",
   "execution_count": null,
   "metadata": {},
   "outputs": [],
   "source": []
  }
 ],
 "metadata": {
  "kernelspec": {
   "display_name": "Python 3",
   "language": "python",
   "name": "python3"
  },
  "language_info": {
   "codemirror_mode": {
    "name": "ipython",
    "version": 3
   },
   "file_extension": ".py",
   "mimetype": "text/x-python",
   "name": "python",
   "nbconvert_exporter": "python",
   "pygments_lexer": "ipython3",
   "version": "3.7.5"
  }
 },
 "nbformat": 4,
 "nbformat_minor": 4
}
